{
 "cells": [
  {
   "cell_type": "code",
   "execution_count": 1,
   "metadata": {
    "isConfigCell": true
   },
   "outputs": [],
   "source": [
    "library(reticulate)\n",
    "sagemaker = import('sagemaker')\n",
    "\n",
    "bucket = sagemaker$Session()$default_bucket()\n",
    "prefix = \"sagemaker/demo-r-byo\"\n",
    "\n",
    "role = sagemaker$get_execution_role()"
   ]
  },
  {
   "cell_type": "code",
   "execution_count": 2,
   "metadata": {},
   "outputs": [
    {
     "data": {
      "text/html": [
       "'arn:aws:iam::870953422121:role/service-role/AmazonSageMaker-ExecutionRole-20211021T162608'"
      ],
      "text/latex": [
       "'arn:aws:iam::870953422121:role/service-role/AmazonSageMaker-ExecutionRole-20211021T162608'"
      ],
      "text/markdown": [
       "'arn:aws:iam::870953422121:role/service-role/AmazonSageMaker-ExecutionRole-20211021T162608'"
      ],
      "text/plain": [
       "[1] \"arn:aws:iam::870953422121:role/service-role/AmazonSageMaker-ExecutionRole-20211021T162608\""
      ]
     },
     "metadata": {},
     "output_type": "display_data"
    }
   ],
   "source": [
    "role"
   ]
  },
  {
   "cell_type": "code",
   "execution_count": 17,
   "metadata": {
    "isConfigCell": true
   },
   "outputs": [],
   "source": [
    "session = sagemaker$Session()"
   ]
  },
  {
   "cell_type": "code",
   "execution_count": 18,
   "metadata": {},
   "outputs": [],
   "source": [
    "algorithm_name = \"rmars\""
   ]
  },
  {
   "cell_type": "markdown",
   "metadata": {},
   "source": [
    "_Note: Although we could do preliminary data transformations in the notebook, we'll avoid doing so, instead choosing to do those transformations inside the container.  This is not typically the best practice for model efficiency, but provides some benefits in terms of flexibility._"
   ]
  },
  {
   "cell_type": "code",
   "execution_count": 19,
   "metadata": {},
   "outputs": [],
   "source": [
    "boto3_r = import('boto3')"
   ]
  },
  {
   "cell_type": "code",
   "execution_count": 20,
   "metadata": {},
   "outputs": [],
   "source": [
    "region = boto3_r$Session()$region_name\n",
    "account = boto3_r$client('sts')$get_caller_identity()$Account"
   ]
  },
  {
   "cell_type": "markdown",
   "metadata": {},
   "source": [
    "Now we'll create an estimator using the [SageMaker Python SDK](https://github.com/aws/sagemaker-python-sdk).  This allows us to specify:\n",
    "- The training container image in ECR\n",
    "- The IAM role that controls permissions for accessing the S3 data and executing SageMaker functions\n",
    "- Number and type of training instances\n",
    "- S3 path for model artifacts to be output to\n",
    "- Any hyperparameters that we want to have the same value across all training jobs during tuning"
   ]
  },
  {
   "cell_type": "code",
   "execution_count": 21,
   "metadata": {
    "scrolled": true
   },
   "outputs": [],
   "source": [
    "library(tidyverse)"
   ]
  },
  {
   "cell_type": "markdown",
   "metadata": {},
   "source": [
    "## Data"
   ]
  },
  {
   "cell_type": "code",
   "execution_count": 22,
   "metadata": {},
   "outputs": [
    {
     "name": "stderr",
     "output_type": "stream",
     "text": [
      "New names:\n",
      "* `` -> ...1\n",
      "\n",
      "\u001b[1mRows: \u001b[22m\u001b[34m342156\u001b[39m \u001b[1mColumns: \u001b[22m\u001b[34m7\u001b[39m\n",
      "\n",
      "\u001b[36m──\u001b[39m \u001b[1mColumn specification\u001b[22m \u001b[36m────────────────────────────────────────────────────────\u001b[39m\n",
      "\u001b[1mDelimiter:\u001b[22m \",\"\n",
      "\u001b[31mchr\u001b[39m  (1): status\n",
      "\u001b[32mdbl\u001b[39m  (5): ...1, id, humidity, no2, temperature\n",
      "\u001b[34mdttm\u001b[39m (1): date\n",
      "\n",
      "\n",
      "\u001b[36mℹ\u001b[39m Use \u001b[30m\u001b[47m\u001b[30m\u001b[47m`spec()`\u001b[47m\u001b[30m\u001b[49m\u001b[39m to retrieve the full column specification for this data.\n",
      "\u001b[36mℹ\u001b[39m Specify the column types or set \u001b[30m\u001b[47m\u001b[30m\u001b[47m`show_col_types = FALSE`\u001b[47m\u001b[30m\u001b[49m\u001b[39m to quiet this message.\n",
      "\n"
     ]
    },
    {
     "data": {
      "text/html": [
       "<table class=\"dataframe\">\n",
       "<caption>A tibble: 6 × 7</caption>\n",
       "<thead>\n",
       "\t<tr><th scope=col>...1</th><th scope=col>id</th><th scope=col>date</th><th scope=col>status</th><th scope=col>humidity</th><th scope=col>no2</th><th scope=col>temperature</th></tr>\n",
       "\t<tr><th scope=col>&lt;dbl&gt;</th><th scope=col>&lt;dbl&gt;</th><th scope=col>&lt;dttm&gt;</th><th scope=col>&lt;chr&gt;</th><th scope=col>&lt;dbl&gt;</th><th scope=col>&lt;dbl&gt;</th><th scope=col>&lt;dbl&gt;</th></tr>\n",
       "</thead>\n",
       "<tbody>\n",
       "\t<tr><td>0</td><td>42022</td><td>2021-08-15 00:00:00</td><td>RAW</td><td>71.82511</td><td>297.1198</td><td>24.94795</td></tr>\n",
       "\t<tr><td>1</td><td>42022</td><td>2021-08-15 00:05:00</td><td>RAW</td><td>72.20479</td><td>297.1906</td><td>24.84013</td></tr>\n",
       "\t<tr><td>2</td><td>42022</td><td>2021-08-15 00:10:00</td><td>RAW</td><td>72.43551</td><td>297.3429</td><td>24.74854</td></tr>\n",
       "\t<tr><td>3</td><td>42022</td><td>2021-08-15 00:15:00</td><td>RAW</td><td>72.64743</td><td>297.4239</td><td>24.66797</td></tr>\n",
       "\t<tr><td>4</td><td>42022</td><td>2021-08-15 00:20:00</td><td>RAW</td><td>72.76068</td><td>297.6219</td><td>24.64623</td></tr>\n",
       "\t<tr><td>5</td><td>42022</td><td>2021-08-15 00:25:00</td><td>RAW</td><td>73.05018</td><td>297.7695</td><td>24.57725</td></tr>\n",
       "</tbody>\n",
       "</table>\n"
      ],
      "text/latex": [
       "A tibble: 6 × 7\n",
       "\\begin{tabular}{lllllll}\n",
       " ...1 & id & date & status & humidity & no2 & temperature\\\\\n",
       " <dbl> & <dbl> & <dttm> & <chr> & <dbl> & <dbl> & <dbl>\\\\\n",
       "\\hline\n",
       "\t 0 & 42022 & 2021-08-15 00:00:00 & RAW & 71.82511 & 297.1198 & 24.94795\\\\\n",
       "\t 1 & 42022 & 2021-08-15 00:05:00 & RAW & 72.20479 & 297.1906 & 24.84013\\\\\n",
       "\t 2 & 42022 & 2021-08-15 00:10:00 & RAW & 72.43551 & 297.3429 & 24.74854\\\\\n",
       "\t 3 & 42022 & 2021-08-15 00:15:00 & RAW & 72.64743 & 297.4239 & 24.66797\\\\\n",
       "\t 4 & 42022 & 2021-08-15 00:20:00 & RAW & 72.76068 & 297.6219 & 24.64623\\\\\n",
       "\t 5 & 42022 & 2021-08-15 00:25:00 & RAW & 73.05018 & 297.7695 & 24.57725\\\\\n",
       "\\end{tabular}\n"
      ],
      "text/markdown": [
       "\n",
       "A tibble: 6 × 7\n",
       "\n",
       "| ...1 &lt;dbl&gt; | id &lt;dbl&gt; | date &lt;dttm&gt; | status &lt;chr&gt; | humidity &lt;dbl&gt; | no2 &lt;dbl&gt; | temperature &lt;dbl&gt; |\n",
       "|---|---|---|---|---|---|---|\n",
       "| 0 | 42022 | 2021-08-15 00:00:00 | RAW | 71.82511 | 297.1198 | 24.94795 |\n",
       "| 1 | 42022 | 2021-08-15 00:05:00 | RAW | 72.20479 | 297.1906 | 24.84013 |\n",
       "| 2 | 42022 | 2021-08-15 00:10:00 | RAW | 72.43551 | 297.3429 | 24.74854 |\n",
       "| 3 | 42022 | 2021-08-15 00:15:00 | RAW | 72.64743 | 297.4239 | 24.66797 |\n",
       "| 4 | 42022 | 2021-08-15 00:20:00 | RAW | 72.76068 | 297.6219 | 24.64623 |\n",
       "| 5 | 42022 | 2021-08-15 00:25:00 | RAW | 73.05018 | 297.7695 | 24.57725 |\n",
       "\n"
      ],
      "text/plain": [
       "  ...1 id    date                status humidity no2      temperature\n",
       "1 0    42022 2021-08-15 00:00:00 RAW    71.82511 297.1198 24.94795   \n",
       "2 1    42022 2021-08-15 00:05:00 RAW    72.20479 297.1906 24.84013   \n",
       "3 2    42022 2021-08-15 00:10:00 RAW    72.43551 297.3429 24.74854   \n",
       "4 3    42022 2021-08-15 00:15:00 RAW    72.64743 297.4239 24.66797   \n",
       "5 4    42022 2021-08-15 00:20:00 RAW    72.76068 297.6219 24.64623   \n",
       "6 5    42022 2021-08-15 00:25:00 RAW    73.05018 297.7695 24.57725   "
      ]
     },
     "metadata": {},
     "output_type": "display_data"
    }
   ],
   "source": [
    "# loading airly sensor (sensor ids = 7201, 7599, 7803; instal ids = 41414, 41816, 42022) data\n",
    "# for the period 15-08-2021 to 22-11-2021 (Only NO2, T and RH signals)\n",
    "data_file <- 'data/data_airly.csv'\n",
    "data_airly_all <- read_csv(file=data_file)#, col_types = cols(\"d\", \"d\", \"T\", \"c\", \"d\", \"d\", \"d\"))\n",
    "head(data_airly_all)"
   ]
  },
  {
   "cell_type": "code",
   "execution_count": 23,
   "metadata": {},
   "outputs": [
    {
     "name": "stderr",
     "output_type": "stream",
     "text": [
      "\u001b[1mRows: \u001b[22m\u001b[34m28512\u001b[39m \u001b[1mColumns: \u001b[22m\u001b[34m4\u001b[39m\n",
      "\n",
      "\u001b[36m──\u001b[39m \u001b[1mColumn specification\u001b[22m \u001b[36m────────────────────────────────────────────────────────\u001b[39m\n",
      "\u001b[1mDelimiter:\u001b[22m \",\"\n",
      "\u001b[32mdbl\u001b[39m  (3): NO, NO2, NOX\n",
      "\u001b[34mdttm\u001b[39m (1): Time\n",
      "\n",
      "\n",
      "\u001b[36mℹ\u001b[39m Use \u001b[30m\u001b[47m\u001b[30m\u001b[47m`spec()`\u001b[47m\u001b[30m\u001b[49m\u001b[39m to retrieve the full column specification for this data.\n",
      "\u001b[36mℹ\u001b[39m Specify the column types or set \u001b[30m\u001b[47m\u001b[30m\u001b[47m`show_col_types = FALSE`\u001b[47m\u001b[30m\u001b[49m\u001b[39m to quiet this message.\n",
      "\n"
     ]
    },
    {
     "data": {
      "text/html": [
       "<table class=\"dataframe\">\n",
       "<caption>A tibble: 6 × 5</caption>\n",
       "<thead>\n",
       "\t<tr><th scope=col>Time</th><th scope=col>NO</th><th scope=col>NO2</th><th scope=col>NOX</th><th scope=col>date</th></tr>\n",
       "\t<tr><th scope=col>&lt;dttm&gt;</th><th scope=col>&lt;dbl&gt;</th><th scope=col>&lt;dbl&gt;</th><th scope=col>&lt;dbl&gt;</th><th scope=col>&lt;dttm&gt;</th></tr>\n",
       "</thead>\n",
       "<tbody>\n",
       "\t<tr><td>2021-08-15 01:00:00</td><td>4.43</td><td>21.3</td><td>25.8</td><td>2021-08-15 00:00:00</td></tr>\n",
       "\t<tr><td>2021-08-15 01:05:00</td><td>3.14</td><td>20.8</td><td>24.0</td><td>2021-08-15 00:05:00</td></tr>\n",
       "\t<tr><td>2021-08-15 01:10:00</td><td>2.85</td><td>20.6</td><td>23.4</td><td>2021-08-15 00:10:00</td></tr>\n",
       "\t<tr><td>2021-08-15 01:15:00</td><td>3.60</td><td>20.8</td><td>24.4</td><td>2021-08-15 00:15:00</td></tr>\n",
       "\t<tr><td>2021-08-15 01:20:00</td><td>4.04</td><td>21.2</td><td>25.2</td><td>2021-08-15 00:20:00</td></tr>\n",
       "\t<tr><td>2021-08-15 01:25:00</td><td>4.53</td><td>22.0</td><td>26.5</td><td>2021-08-15 00:25:00</td></tr>\n",
       "</tbody>\n",
       "</table>\n"
      ],
      "text/latex": [
       "A tibble: 6 × 5\n",
       "\\begin{tabular}{lllll}\n",
       " Time & NO & NO2 & NOX & date\\\\\n",
       " <dttm> & <dbl> & <dbl> & <dbl> & <dttm>\\\\\n",
       "\\hline\n",
       "\t 2021-08-15 01:00:00 & 4.43 & 21.3 & 25.8 & 2021-08-15 00:00:00\\\\\n",
       "\t 2021-08-15 01:05:00 & 3.14 & 20.8 & 24.0 & 2021-08-15 00:05:00\\\\\n",
       "\t 2021-08-15 01:10:00 & 2.85 & 20.6 & 23.4 & 2021-08-15 00:10:00\\\\\n",
       "\t 2021-08-15 01:15:00 & 3.60 & 20.8 & 24.4 & 2021-08-15 00:15:00\\\\\n",
       "\t 2021-08-15 01:20:00 & 4.04 & 21.2 & 25.2 & 2021-08-15 00:20:00\\\\\n",
       "\t 2021-08-15 01:25:00 & 4.53 & 22.0 & 26.5 & 2021-08-15 00:25:00\\\\\n",
       "\\end{tabular}\n"
      ],
      "text/markdown": [
       "\n",
       "A tibble: 6 × 5\n",
       "\n",
       "| Time &lt;dttm&gt; | NO &lt;dbl&gt; | NO2 &lt;dbl&gt; | NOX &lt;dbl&gt; | date &lt;dttm&gt; |\n",
       "|---|---|---|---|---|\n",
       "| 2021-08-15 01:00:00 | 4.43 | 21.3 | 25.8 | 2021-08-15 00:00:00 |\n",
       "| 2021-08-15 01:05:00 | 3.14 | 20.8 | 24.0 | 2021-08-15 00:05:00 |\n",
       "| 2021-08-15 01:10:00 | 2.85 | 20.6 | 23.4 | 2021-08-15 00:10:00 |\n",
       "| 2021-08-15 01:15:00 | 3.60 | 20.8 | 24.4 | 2021-08-15 00:15:00 |\n",
       "| 2021-08-15 01:20:00 | 4.04 | 21.2 | 25.2 | 2021-08-15 00:20:00 |\n",
       "| 2021-08-15 01:25:00 | 4.53 | 22.0 | 26.5 | 2021-08-15 00:25:00 |\n",
       "\n"
      ],
      "text/plain": [
       "  Time                NO   NO2  NOX  date               \n",
       "1 2021-08-15 01:00:00 4.43 21.3 25.8 2021-08-15 00:00:00\n",
       "2 2021-08-15 01:05:00 3.14 20.8 24.0 2021-08-15 00:05:00\n",
       "3 2021-08-15 01:10:00 2.85 20.6 23.4 2021-08-15 00:10:00\n",
       "4 2021-08-15 01:15:00 3.60 20.8 24.4 2021-08-15 00:15:00\n",
       "5 2021-08-15 01:20:00 4.04 21.2 25.2 2021-08-15 00:20:00\n",
       "6 2021-08-15 01:25:00 4.53 22.0 26.5 2021-08-15 00:25:00"
      ]
     },
     "metadata": {},
     "output_type": "display_data"
    }
   ],
   "source": [
    "# loading coloated reference sensor (balcony analyser T200) data for the same period\n",
    "data_file <- 'data/data_ref-LONDON.csv'\n",
    "data_ref_all <- read_csv(file=data_file) %>% \n",
    "    mutate(Time = lubridate::force_tz(Time, \"Europe/London\")) %>%   # set time zone (for downloaded data) to pc local tzone\n",
    "    mutate(date = lubridate::with_tz(Time, \"UTC\")) # convert time zone to UTC to match airly data\n",
    "head(data_ref_all)"
   ]
  },
  {
   "cell_type": "code",
   "execution_count": 24,
   "metadata": {},
   "outputs": [],
   "source": [
    "ID = 42022"
   ]
  },
  {
   "cell_type": "code",
   "execution_count": 25,
   "metadata": {},
   "outputs": [
    {
     "data": {
      "text/html": [
       "<table class=\"dataframe\">\n",
       "<caption>A tibble: 6 × 5</caption>\n",
       "<thead>\n",
       "\t<tr><th scope=col>date</th><th scope=col>RAW</th><th scope=col>AUX</th><th scope=col>PPB</th><th scope=col>FINAL</th></tr>\n",
       "\t<tr><th scope=col>&lt;dttm&gt;</th><th scope=col>&lt;dbl&gt;</th><th scope=col>&lt;dbl&gt;</th><th scope=col>&lt;dbl&gt;</th><th scope=col>&lt;dbl&gt;</th></tr>\n",
       "</thead>\n",
       "<tbody>\n",
       "\t<tr><td>2021-08-15 00:00:00</td><td>297.1198</td><td>291.0501</td><td>26.00640</td><td>47.91067</td></tr>\n",
       "\t<tr><td>2021-08-15 00:05:00</td><td>297.1906</td><td>290.9707</td><td>26.64045</td><td>49.09779</td></tr>\n",
       "\t<tr><td>2021-08-15 00:10:00</td><td>297.3429</td><td>290.9539</td><td>27.30686</td><td>50.34218</td></tr>\n",
       "\t<tr><td>2021-08-15 00:15:00</td><td>297.4239</td><td>290.9917</td><td>27.46796</td><td>50.65224</td></tr>\n",
       "\t<tr><td>2021-08-15 00:20:00</td><td>297.6219</td><td>291.0800</td><td>27.83964</td><td>51.33843</td></tr>\n",
       "\t<tr><td>2021-08-15 00:25:00</td><td>297.7695</td><td>291.0375</td><td>28.59472</td><td>52.74053</td></tr>\n",
       "</tbody>\n",
       "</table>\n"
      ],
      "text/latex": [
       "A tibble: 6 × 5\n",
       "\\begin{tabular}{lllll}\n",
       " date & RAW & AUX & PPB & FINAL\\\\\n",
       " <dttm> & <dbl> & <dbl> & <dbl> & <dbl>\\\\\n",
       "\\hline\n",
       "\t 2021-08-15 00:00:00 & 297.1198 & 291.0501 & 26.00640 & 47.91067\\\\\n",
       "\t 2021-08-15 00:05:00 & 297.1906 & 290.9707 & 26.64045 & 49.09779\\\\\n",
       "\t 2021-08-15 00:10:00 & 297.3429 & 290.9539 & 27.30686 & 50.34218\\\\\n",
       "\t 2021-08-15 00:15:00 & 297.4239 & 290.9917 & 27.46796 & 50.65224\\\\\n",
       "\t 2021-08-15 00:20:00 & 297.6219 & 291.0800 & 27.83964 & 51.33843\\\\\n",
       "\t 2021-08-15 00:25:00 & 297.7695 & 291.0375 & 28.59472 & 52.74053\\\\\n",
       "\\end{tabular}\n"
      ],
      "text/markdown": [
       "\n",
       "A tibble: 6 × 5\n",
       "\n",
       "| date &lt;dttm&gt; | RAW &lt;dbl&gt; | AUX &lt;dbl&gt; | PPB &lt;dbl&gt; | FINAL &lt;dbl&gt; |\n",
       "|---|---|---|---|---|\n",
       "| 2021-08-15 00:00:00 | 297.1198 | 291.0501 | 26.00640 | 47.91067 |\n",
       "| 2021-08-15 00:05:00 | 297.1906 | 290.9707 | 26.64045 | 49.09779 |\n",
       "| 2021-08-15 00:10:00 | 297.3429 | 290.9539 | 27.30686 | 50.34218 |\n",
       "| 2021-08-15 00:15:00 | 297.4239 | 290.9917 | 27.46796 | 50.65224 |\n",
       "| 2021-08-15 00:20:00 | 297.6219 | 291.0800 | 27.83964 | 51.33843 |\n",
       "| 2021-08-15 00:25:00 | 297.7695 | 291.0375 | 28.59472 | 52.74053 |\n",
       "\n"
      ],
      "text/plain": [
       "  date                RAW      AUX      PPB      FINAL   \n",
       "1 2021-08-15 00:00:00 297.1198 291.0501 26.00640 47.91067\n",
       "2 2021-08-15 00:05:00 297.1906 290.9707 26.64045 49.09779\n",
       "3 2021-08-15 00:10:00 297.3429 290.9539 27.30686 50.34218\n",
       "4 2021-08-15 00:15:00 297.4239 290.9917 27.46796 50.65224\n",
       "5 2021-08-15 00:20:00 297.6219 291.0800 27.83964 51.33843\n",
       "6 2021-08-15 00:25:00 297.7695 291.0375 28.59472 52.74053"
      ]
     },
     "metadata": {},
     "output_type": "display_data"
    }
   ],
   "source": [
    "data_airly_id <- data_airly_all %>% \n",
    "    filter(id==ID) %>% \n",
    "    select(date, status, no2) %>% \n",
    "    pivot_wider(names_from = status, values_from = c(no2))\n",
    "head(data_airly_id)"
   ]
  },
  {
   "cell_type": "code",
   "execution_count": 26,
   "metadata": {},
   "outputs": [
    {
     "data": {
      "text/html": [
       "<table class=\"dataframe\">\n",
       "<caption>A tibble: 6 × 3</caption>\n",
       "<thead>\n",
       "\t<tr><th scope=col>date</th><th scope=col>temperature</th><th scope=col>humidity</th></tr>\n",
       "\t<tr><th scope=col>&lt;dttm&gt;</th><th scope=col>&lt;dbl&gt;</th><th scope=col>&lt;dbl&gt;</th></tr>\n",
       "</thead>\n",
       "<tbody>\n",
       "\t<tr><td>2021-08-15 00:00:00</td><td>24.94795</td><td>71.82511</td></tr>\n",
       "\t<tr><td>2021-08-15 00:05:00</td><td>24.84013</td><td>72.20479</td></tr>\n",
       "\t<tr><td>2021-08-15 00:10:00</td><td>24.74854</td><td>72.43551</td></tr>\n",
       "\t<tr><td>2021-08-15 00:15:00</td><td>24.66797</td><td>72.64743</td></tr>\n",
       "\t<tr><td>2021-08-15 00:20:00</td><td>24.64623</td><td>72.76068</td></tr>\n",
       "\t<tr><td>2021-08-15 00:25:00</td><td>24.57725</td><td>73.05018</td></tr>\n",
       "</tbody>\n",
       "</table>\n"
      ],
      "text/latex": [
       "A tibble: 6 × 3\n",
       "\\begin{tabular}{lll}\n",
       " date & temperature & humidity\\\\\n",
       " <dttm> & <dbl> & <dbl>\\\\\n",
       "\\hline\n",
       "\t 2021-08-15 00:00:00 & 24.94795 & 71.82511\\\\\n",
       "\t 2021-08-15 00:05:00 & 24.84013 & 72.20479\\\\\n",
       "\t 2021-08-15 00:10:00 & 24.74854 & 72.43551\\\\\n",
       "\t 2021-08-15 00:15:00 & 24.66797 & 72.64743\\\\\n",
       "\t 2021-08-15 00:20:00 & 24.64623 & 72.76068\\\\\n",
       "\t 2021-08-15 00:25:00 & 24.57725 & 73.05018\\\\\n",
       "\\end{tabular}\n"
      ],
      "text/markdown": [
       "\n",
       "A tibble: 6 × 3\n",
       "\n",
       "| date &lt;dttm&gt; | temperature &lt;dbl&gt; | humidity &lt;dbl&gt; |\n",
       "|---|---|---|\n",
       "| 2021-08-15 00:00:00 | 24.94795 | 71.82511 |\n",
       "| 2021-08-15 00:05:00 | 24.84013 | 72.20479 |\n",
       "| 2021-08-15 00:10:00 | 24.74854 | 72.43551 |\n",
       "| 2021-08-15 00:15:00 | 24.66797 | 72.64743 |\n",
       "| 2021-08-15 00:20:00 | 24.64623 | 72.76068 |\n",
       "| 2021-08-15 00:25:00 | 24.57725 | 73.05018 |\n",
       "\n"
      ],
      "text/plain": [
       "  date                temperature humidity\n",
       "1 2021-08-15 00:00:00 24.94795    71.82511\n",
       "2 2021-08-15 00:05:00 24.84013    72.20479\n",
       "3 2021-08-15 00:10:00 24.74854    72.43551\n",
       "4 2021-08-15 00:15:00 24.66797    72.64743\n",
       "5 2021-08-15 00:20:00 24.64623    72.76068\n",
       "6 2021-08-15 00:25:00 24.57725    73.05018"
      ]
     },
     "metadata": {},
     "output_type": "display_data"
    }
   ],
   "source": [
    "data_airly_TRH <- data_airly_all %>% \n",
    "    filter(id==ID) %>% \n",
    "    filter(status==\"RAW\") %>% \n",
    "    select(date, temperature, humidity)\n",
    "head(data_airly_TRH)"
   ]
  },
  {
   "cell_type": "code",
   "execution_count": 28,
   "metadata": {},
   "outputs": [
    {
     "name": "stderr",
     "output_type": "stream",
     "text": [
      "also installing the dependencies ‘jpeg’, ‘latticeExtra’, ‘mapproj’\n",
      "\n",
      "\n",
      "Updating HTML index of packages in '.Library'\n",
      "\n",
      "Making 'packages.html' ...\n",
      " done\n",
      "\n",
      "\n",
      "Attaching package: ‘openair’\n",
      "\n",
      "\n",
      "The following object is masked from ‘package:reticulate’:\n",
      "\n",
      "    import\n",
      "\n",
      "\n"
     ]
    }
   ],
   "source": [
    "install.packages('openair')\n",
    "library(openair)"
   ]
  },
  {
   "cell_type": "code",
   "execution_count": 29,
   "metadata": {},
   "outputs": [],
   "source": [
    "data_base <- data_airly_id %>% \n",
    "    openair::timeAverage(avg.time = \"60 min\", statistic = \"min\", start.date = \"2021-08-15 00:00:00\")"
   ]
  },
  {
   "cell_type": "code",
   "execution_count": 30,
   "metadata": {},
   "outputs": [],
   "source": [
    "data_base_TRH <- data_airly_TRH %>% \n",
    "    openair::timeAverage(avg.time = \"60 min\", statistic = \"mean\", start.date = \"2021-08-15 00:00:00\")"
   ]
  },
  {
   "cell_type": "code",
   "execution_count": 31,
   "metadata": {},
   "outputs": [
    {
     "data": {
      "text/html": [
       "<table class=\"dataframe\">\n",
       "<caption>A data.frame: 6 × 3</caption>\n",
       "<thead>\n",
       "\t<tr><th></th><th scope=col>date</th><th scope=col>RAW</th><th scope=col>temperature</th></tr>\n",
       "\t<tr><th></th><th scope=col>&lt;dttm&gt;</th><th scope=col>&lt;dbl&gt;</th><th scope=col>&lt;dbl&gt;</th></tr>\n",
       "</thead>\n",
       "<tbody>\n",
       "\t<tr><th scope=row>1</th><td>2021-08-15 00:00:00</td><td>297.1198</td><td>24.60835</td></tr>\n",
       "\t<tr><th scope=row>2</th><td>2021-08-15 01:00:00</td><td>296.3621</td><td>23.92445</td></tr>\n",
       "\t<tr><th scope=row>3</th><td>2021-08-15 02:00:00</td><td>295.7771</td><td>23.37839</td></tr>\n",
       "\t<tr><th scope=row>4</th><td>2021-08-15 03:00:00</td><td>295.4487</td><td>22.81762</td></tr>\n",
       "\t<tr><th scope=row>5</th><td>2021-08-15 04:00:00</td><td>295.5031</td><td>22.99725</td></tr>\n",
       "\t<tr><th scope=row>6</th><td>2021-08-15 05:00:00</td><td>294.5177</td><td>24.34073</td></tr>\n",
       "</tbody>\n",
       "</table>\n"
      ],
      "text/latex": [
       "A data.frame: 6 × 3\n",
       "\\begin{tabular}{r|lll}\n",
       "  & date & RAW & temperature\\\\\n",
       "  & <dttm> & <dbl> & <dbl>\\\\\n",
       "\\hline\n",
       "\t1 & 2021-08-15 00:00:00 & 297.1198 & 24.60835\\\\\n",
       "\t2 & 2021-08-15 01:00:00 & 296.3621 & 23.92445\\\\\n",
       "\t3 & 2021-08-15 02:00:00 & 295.7771 & 23.37839\\\\\n",
       "\t4 & 2021-08-15 03:00:00 & 295.4487 & 22.81762\\\\\n",
       "\t5 & 2021-08-15 04:00:00 & 295.5031 & 22.99725\\\\\n",
       "\t6 & 2021-08-15 05:00:00 & 294.5177 & 24.34073\\\\\n",
       "\\end{tabular}\n"
      ],
      "text/markdown": [
       "\n",
       "A data.frame: 6 × 3\n",
       "\n",
       "| <!--/--> | date &lt;dttm&gt; | RAW &lt;dbl&gt; | temperature &lt;dbl&gt; |\n",
       "|---|---|---|---|\n",
       "| 1 | 2021-08-15 00:00:00 | 297.1198 | 24.60835 |\n",
       "| 2 | 2021-08-15 01:00:00 | 296.3621 | 23.92445 |\n",
       "| 3 | 2021-08-15 02:00:00 | 295.7771 | 23.37839 |\n",
       "| 4 | 2021-08-15 03:00:00 | 295.4487 | 22.81762 |\n",
       "| 5 | 2021-08-15 04:00:00 | 295.5031 | 22.99725 |\n",
       "| 6 | 2021-08-15 05:00:00 | 294.5177 | 24.34073 |\n",
       "\n"
      ],
      "text/plain": [
       "  date                RAW      temperature\n",
       "1 2021-08-15 00:00:00 297.1198 24.60835   \n",
       "2 2021-08-15 01:00:00 296.3621 23.92445   \n",
       "3 2021-08-15 02:00:00 295.7771 23.37839   \n",
       "4 2021-08-15 03:00:00 295.4487 22.81762   \n",
       "5 2021-08-15 04:00:00 295.5031 22.99725   \n",
       "6 2021-08-15 05:00:00 294.5177 24.34073   "
      ]
     },
     "metadata": {},
     "output_type": "display_data"
    }
   ],
   "source": [
    "data_base_comb <- cbind(data_base[,1:2], data_base_TRH[,2]) %>% \n",
    "    na.exclude()\n",
    "head(data_base_comb)"
   ]
  },
  {
   "cell_type": "code",
   "execution_count": 32,
   "metadata": {},
   "outputs": [],
   "source": [
    "base_train <- data_base_comb %>% \n",
    "    select(-date)"
   ]
  },
  {
   "cell_type": "code",
   "execution_count": null,
   "metadata": {},
   "outputs": [],
   "source": [
    "write_csv(base_train, \"data/base_train.csv\")"
   ]
  },
  {
   "cell_type": "code",
   "execution_count": 33,
   "metadata": {
    "scrolled": true
   },
   "outputs": [
    {
     "data": {
      "text/html": [
       "<table class=\"dataframe\">\n",
       "<caption>A data.frame: 6 × 7</caption>\n",
       "<thead>\n",
       "\t<tr><th></th><th scope=col>date</th><th scope=col>RAW</th><th scope=col>AUX</th><th scope=col>PPB</th><th scope=col>FINAL</th><th scope=col>temperature</th><th scope=col>humidity</th></tr>\n",
       "\t<tr><th></th><th scope=col>&lt;dttm&gt;</th><th scope=col>&lt;dbl&gt;</th><th scope=col>&lt;dbl&gt;</th><th scope=col>&lt;dbl&gt;</th><th scope=col>&lt;dbl&gt;</th><th scope=col>&lt;dbl&gt;</th><th scope=col>&lt;dbl&gt;</th></tr>\n",
       "</thead>\n",
       "<tbody>\n",
       "\t<tr><th scope=row>1</th><td>2021-08-15 00:00:00</td><td>297.1198</td><td>291.0501</td><td>26.00640</td><td>47.91067</td><td>24.94795</td><td>71.82511</td></tr>\n",
       "\t<tr><th scope=row>2</th><td>2021-08-15 00:05:00</td><td>297.1906</td><td>290.9707</td><td>26.64045</td><td>49.09779</td><td>24.84013</td><td>72.20479</td></tr>\n",
       "\t<tr><th scope=row>3</th><td>2021-08-15 00:10:00</td><td>297.3429</td><td>290.9539</td><td>27.30686</td><td>50.34218</td><td>24.74854</td><td>72.43551</td></tr>\n",
       "\t<tr><th scope=row>4</th><td>2021-08-15 00:15:00</td><td>297.4239</td><td>290.9917</td><td>27.46796</td><td>50.65224</td><td>24.66797</td><td>72.64743</td></tr>\n",
       "\t<tr><th scope=row>5</th><td>2021-08-15 00:20:00</td><td>297.6219</td><td>291.0800</td><td>27.83964</td><td>51.33843</td><td>24.64623</td><td>72.76068</td></tr>\n",
       "\t<tr><th scope=row>6</th><td>2021-08-15 00:25:00</td><td>297.7695</td><td>291.0375</td><td>28.59472</td><td>52.74053</td><td>24.57725</td><td>73.05018</td></tr>\n",
       "</tbody>\n",
       "</table>\n"
      ],
      "text/latex": [
       "A data.frame: 6 × 7\n",
       "\\begin{tabular}{r|lllllll}\n",
       "  & date & RAW & AUX & PPB & FINAL & temperature & humidity\\\\\n",
       "  & <dttm> & <dbl> & <dbl> & <dbl> & <dbl> & <dbl> & <dbl>\\\\\n",
       "\\hline\n",
       "\t1 & 2021-08-15 00:00:00 & 297.1198 & 291.0501 & 26.00640 & 47.91067 & 24.94795 & 71.82511\\\\\n",
       "\t2 & 2021-08-15 00:05:00 & 297.1906 & 290.9707 & 26.64045 & 49.09779 & 24.84013 & 72.20479\\\\\n",
       "\t3 & 2021-08-15 00:10:00 & 297.3429 & 290.9539 & 27.30686 & 50.34218 & 24.74854 & 72.43551\\\\\n",
       "\t4 & 2021-08-15 00:15:00 & 297.4239 & 290.9917 & 27.46796 & 50.65224 & 24.66797 & 72.64743\\\\\n",
       "\t5 & 2021-08-15 00:20:00 & 297.6219 & 291.0800 & 27.83964 & 51.33843 & 24.64623 & 72.76068\\\\\n",
       "\t6 & 2021-08-15 00:25:00 & 297.7695 & 291.0375 & 28.59472 & 52.74053 & 24.57725 & 73.05018\\\\\n",
       "\\end{tabular}\n"
      ],
      "text/markdown": [
       "\n",
       "A data.frame: 6 × 7\n",
       "\n",
       "| <!--/--> | date &lt;dttm&gt; | RAW &lt;dbl&gt; | AUX &lt;dbl&gt; | PPB &lt;dbl&gt; | FINAL &lt;dbl&gt; | temperature &lt;dbl&gt; | humidity &lt;dbl&gt; |\n",
       "|---|---|---|---|---|---|---|---|\n",
       "| 1 | 2021-08-15 00:00:00 | 297.1198 | 291.0501 | 26.00640 | 47.91067 | 24.94795 | 71.82511 |\n",
       "| 2 | 2021-08-15 00:05:00 | 297.1906 | 290.9707 | 26.64045 | 49.09779 | 24.84013 | 72.20479 |\n",
       "| 3 | 2021-08-15 00:10:00 | 297.3429 | 290.9539 | 27.30686 | 50.34218 | 24.74854 | 72.43551 |\n",
       "| 4 | 2021-08-15 00:15:00 | 297.4239 | 290.9917 | 27.46796 | 50.65224 | 24.66797 | 72.64743 |\n",
       "| 5 | 2021-08-15 00:20:00 | 297.6219 | 291.0800 | 27.83964 | 51.33843 | 24.64623 | 72.76068 |\n",
       "| 6 | 2021-08-15 00:25:00 | 297.7695 | 291.0375 | 28.59472 | 52.74053 | 24.57725 | 73.05018 |\n",
       "\n"
      ],
      "text/plain": [
       "  date                RAW      AUX      PPB      FINAL    temperature humidity\n",
       "1 2021-08-15 00:00:00 297.1198 291.0501 26.00640 47.91067 24.94795    71.82511\n",
       "2 2021-08-15 00:05:00 297.1906 290.9707 26.64045 49.09779 24.84013    72.20479\n",
       "3 2021-08-15 00:10:00 297.3429 290.9539 27.30686 50.34218 24.74854    72.43551\n",
       "4 2021-08-15 00:15:00 297.4239 290.9917 27.46796 50.65224 24.66797    72.64743\n",
       "5 2021-08-15 00:20:00 297.6219 291.0800 27.83964 51.33843 24.64623    72.76068\n",
       "6 2021-08-15 00:25:00 297.7695 291.0375 28.59472 52.74053 24.57725    73.05018"
      ]
     },
     "metadata": {},
     "output_type": "display_data"
    }
   ],
   "source": [
    "data_airly_idTRH <- merge(data_airly_id, data_airly_TRH)\n",
    "head(data_airly_idTRH)"
   ]
  },
  {
   "cell_type": "code",
   "execution_count": 34,
   "metadata": {},
   "outputs": [],
   "source": [
    "# split data into training; first 30 days (~30%), the rest for test (~70%)\n",
    "data_airly_train <- data_airly_idTRH %>%\n",
    "  filter(date < \"2021-09-15 00-00-00\")\n",
    "\n",
    "data_airly_test <- data_airly_idTRH %>%\n",
    "  filter(date >= \"2021-09-15 00-00-00\")\n",
    "\n",
    "data_ref_train <- data_ref_all %>%\n",
    "  filter(date < \"2021-09-15 00-00-00\")\n",
    "\n",
    "data_ref_test <- data_ref_all %>%\n",
    "  filter(date >= \"2021-09-15 00-00-00\")"
   ]
  },
  {
   "cell_type": "code",
   "execution_count": 36,
   "metadata": {},
   "outputs": [
    {
     "data": {
      "text/html": [
       "<table class=\"dataframe\">\n",
       "<caption>A data.frame: 6 × 7</caption>\n",
       "<thead>\n",
       "\t<tr><th></th><th scope=col>date</th><th scope=col>RAW</th><th scope=col>AUX</th><th scope=col>PPB</th><th scope=col>FINAL</th><th scope=col>temperature</th><th scope=col>humidity</th></tr>\n",
       "\t<tr><th></th><th scope=col>&lt;dttm&gt;</th><th scope=col>&lt;dbl&gt;</th><th scope=col>&lt;dbl&gt;</th><th scope=col>&lt;dbl&gt;</th><th scope=col>&lt;dbl&gt;</th><th scope=col>&lt;dbl&gt;</th><th scope=col>&lt;dbl&gt;</th></tr>\n",
       "</thead>\n",
       "<tbody>\n",
       "\t<tr><th scope=row>1</th><td>2021-09-15 00:00:00</td><td>297.0186</td><td>290.4469</td><td>30.05517</td><td>48.12218</td><td>17.34458</td><td>84.18478</td></tr>\n",
       "\t<tr><th scope=row>2</th><td>2021-09-15 00:05:00</td><td>296.9539</td><td>290.4402</td><td>29.83899</td><td>47.84300</td><td>17.30262</td><td>84.36512</td></tr>\n",
       "\t<tr><th scope=row>3</th><td>2021-09-15 00:10:00</td><td>296.9006</td><td>290.4230</td><td>29.70262</td><td>47.66598</td><td>17.26921</td><td>84.36981</td></tr>\n",
       "\t<tr><th scope=row>4</th><td>2021-09-15 00:15:00</td><td>297.4361</td><td>290.4441</td><td>31.75936</td><td>50.37513</td><td>17.22725</td><td>84.76824</td></tr>\n",
       "\t<tr><th scope=row>5</th><td>2021-09-15 00:20:00</td><td>297.4461</td><td>290.3990</td><td>31.98491</td><td>50.67905</td><td>17.16810</td><td>85.36808</td></tr>\n",
       "\t<tr><th scope=row>6</th><td>2021-09-15 00:25:00</td><td>297.3139</td><td>290.4098</td><td>31.43061</td><td>49.95518</td><td>17.14620</td><td>85.35519</td></tr>\n",
       "</tbody>\n",
       "</table>\n"
      ],
      "text/latex": [
       "A data.frame: 6 × 7\n",
       "\\begin{tabular}{r|lllllll}\n",
       "  & date & RAW & AUX & PPB & FINAL & temperature & humidity\\\\\n",
       "  & <dttm> & <dbl> & <dbl> & <dbl> & <dbl> & <dbl> & <dbl>\\\\\n",
       "\\hline\n",
       "\t1 & 2021-09-15 00:00:00 & 297.0186 & 290.4469 & 30.05517 & 48.12218 & 17.34458 & 84.18478\\\\\n",
       "\t2 & 2021-09-15 00:05:00 & 296.9539 & 290.4402 & 29.83899 & 47.84300 & 17.30262 & 84.36512\\\\\n",
       "\t3 & 2021-09-15 00:10:00 & 296.9006 & 290.4230 & 29.70262 & 47.66598 & 17.26921 & 84.36981\\\\\n",
       "\t4 & 2021-09-15 00:15:00 & 297.4361 & 290.4441 & 31.75936 & 50.37513 & 17.22725 & 84.76824\\\\\n",
       "\t5 & 2021-09-15 00:20:00 & 297.4461 & 290.3990 & 31.98491 & 50.67905 & 17.16810 & 85.36808\\\\\n",
       "\t6 & 2021-09-15 00:25:00 & 297.3139 & 290.4098 & 31.43061 & 49.95518 & 17.14620 & 85.35519\\\\\n",
       "\\end{tabular}\n"
      ],
      "text/markdown": [
       "\n",
       "A data.frame: 6 × 7\n",
       "\n",
       "| <!--/--> | date &lt;dttm&gt; | RAW &lt;dbl&gt; | AUX &lt;dbl&gt; | PPB &lt;dbl&gt; | FINAL &lt;dbl&gt; | temperature &lt;dbl&gt; | humidity &lt;dbl&gt; |\n",
       "|---|---|---|---|---|---|---|---|\n",
       "| 1 | 2021-09-15 00:00:00 | 297.0186 | 290.4469 | 30.05517 | 48.12218 | 17.34458 | 84.18478 |\n",
       "| 2 | 2021-09-15 00:05:00 | 296.9539 | 290.4402 | 29.83899 | 47.84300 | 17.30262 | 84.36512 |\n",
       "| 3 | 2021-09-15 00:10:00 | 296.9006 | 290.4230 | 29.70262 | 47.66598 | 17.26921 | 84.36981 |\n",
       "| 4 | 2021-09-15 00:15:00 | 297.4361 | 290.4441 | 31.75936 | 50.37513 | 17.22725 | 84.76824 |\n",
       "| 5 | 2021-09-15 00:20:00 | 297.4461 | 290.3990 | 31.98491 | 50.67905 | 17.16810 | 85.36808 |\n",
       "| 6 | 2021-09-15 00:25:00 | 297.3139 | 290.4098 | 31.43061 | 49.95518 | 17.14620 | 85.35519 |\n",
       "\n"
      ],
      "text/plain": [
       "  date                RAW      AUX      PPB      FINAL    temperature humidity\n",
       "1 2021-09-15 00:00:00 297.0186 290.4469 30.05517 48.12218 17.34458    84.18478\n",
       "2 2021-09-15 00:05:00 296.9539 290.4402 29.83899 47.84300 17.30262    84.36512\n",
       "3 2021-09-15 00:10:00 296.9006 290.4230 29.70262 47.66598 17.26921    84.36981\n",
       "4 2021-09-15 00:15:00 297.4361 290.4441 31.75936 50.37513 17.22725    84.76824\n",
       "5 2021-09-15 00:20:00 297.4461 290.3990 31.98491 50.67905 17.16810    85.36808\n",
       "6 2021-09-15 00:25:00 297.3139 290.4098 31.43061 49.95518 17.14620    85.35519"
      ]
     },
     "metadata": {},
     "output_type": "display_data"
    }
   ],
   "source": [
    "head(data_airly_test)"
   ]
  },
  {
   "cell_type": "code",
   "execution_count": 37,
   "metadata": {},
   "outputs": [],
   "source": [
    "data_airly_train_1hr <- data_airly_train %>% \n",
    "    openair::timeAverage(avg.time = \"60 min\", statistic = \"mean\", start.date = \"2021-08-15 00:00:00\")\n",
    "\n",
    "data_ref_train_1hr <- data_ref_train %>% \n",
    "    openair::timeAverage(avg.time = \"60 min\", statistic = \"mean\", start.date = \"2021-08-15 00:00:00\")"
   ]
  },
  {
   "cell_type": "code",
   "execution_count": 38,
   "metadata": {},
   "outputs": [],
   "source": [
    "data_train_comb <- inner_join(data_airly_train_1hr, data_ref_train_1hr, by=c(\"date\"=\"date\"))"
   ]
  },
  {
   "cell_type": "code",
   "execution_count": null,
   "metadata": {},
   "outputs": [],
   "source": []
  },
  {
   "cell_type": "code",
   "execution_count": 39,
   "metadata": {},
   "outputs": [
    {
     "data": {
      "text/html": [
       "<table class=\"dataframe\">\n",
       "<caption>A tibble: 6 × 11</caption>\n",
       "<thead>\n",
       "\t<tr><th scope=col>date</th><th scope=col>RAW</th><th scope=col>AUX</th><th scope=col>PPB</th><th scope=col>FINAL</th><th scope=col>temperature</th><th scope=col>humidity</th><th scope=col>Time</th><th scope=col>NO</th><th scope=col>NO2</th><th scope=col>NOX</th></tr>\n",
       "\t<tr><th scope=col>&lt;dttm&gt;</th><th scope=col>&lt;dbl&gt;</th><th scope=col>&lt;dbl&gt;</th><th scope=col>&lt;dbl&gt;</th><th scope=col>&lt;dbl&gt;</th><th scope=col>&lt;dbl&gt;</th><th scope=col>&lt;dbl&gt;</th><th scope=col>&lt;dttm&gt;</th><th scope=col>&lt;dbl&gt;</th><th scope=col>&lt;dbl&gt;</th><th scope=col>&lt;dbl&gt;</th></tr>\n",
       "</thead>\n",
       "<tbody>\n",
       "\t<tr><td>2021-08-15 00:00:00</td><td>297.4983</td><td>291.0624</td><td>27.46018</td><td>50.64405</td><td>24.60835</td><td>72.84120</td><td>2021-08-15 01:27:30</td><td>4.676667</td><td>21.55833</td><td>26.22500</td></tr>\n",
       "\t<tr><td>2021-08-15 01:00:00</td><td>296.7222</td><td>290.9680</td><td>25.08844</td><td>46.37331</td><td>23.92445</td><td>74.40823</td><td>2021-08-15 02:27:30</td><td>4.335833</td><td>17.80000</td><td>22.15000</td></tr>\n",
       "\t<tr><td>2021-08-15 02:00:00</td><td>296.2973</td><td>290.9715</td><td>23.58629</td><td>43.66986</td><td>23.37839</td><td>75.36103</td><td>2021-08-15 03:27:30</td><td>4.755000</td><td>15.29167</td><td>20.05000</td></tr>\n",
       "\t<tr><td>2021-08-15 03:00:00</td><td>295.6056</td><td>290.8266</td><td>21.67852</td><td>40.20739</td><td>22.81762</td><td>75.84851</td><td>2021-08-15 04:27:30</td><td>3.353333</td><td>11.87417</td><td>15.22500</td></tr>\n",
       "\t<tr><td>2021-08-15 04:00:00</td><td>295.7697</td><td>291.0592</td><td>21.30270</td><td>39.47796</td><td>22.99725</td><td>75.73416</td><td>2021-08-15 05:27:30</td><td>2.855000</td><td>10.91667</td><td>13.77500</td></tr>\n",
       "\t<tr><td>2021-08-15 05:00:00</td><td>295.5761</td><td>291.3231</td><td>19.16184</td><td>35.35252</td><td>24.34073</td><td>73.23513</td><td>2021-08-15 06:27:30</td><td>4.393333</td><td>13.33333</td><td>17.73333</td></tr>\n",
       "</tbody>\n",
       "</table>\n"
      ],
      "text/latex": [
       "A tibble: 6 × 11\n",
       "\\begin{tabular}{lllllllllll}\n",
       " date & RAW & AUX & PPB & FINAL & temperature & humidity & Time & NO & NO2 & NOX\\\\\n",
       " <dttm> & <dbl> & <dbl> & <dbl> & <dbl> & <dbl> & <dbl> & <dttm> & <dbl> & <dbl> & <dbl>\\\\\n",
       "\\hline\n",
       "\t 2021-08-15 00:00:00 & 297.4983 & 291.0624 & 27.46018 & 50.64405 & 24.60835 & 72.84120 & 2021-08-15 01:27:30 & 4.676667 & 21.55833 & 26.22500\\\\\n",
       "\t 2021-08-15 01:00:00 & 296.7222 & 290.9680 & 25.08844 & 46.37331 & 23.92445 & 74.40823 & 2021-08-15 02:27:30 & 4.335833 & 17.80000 & 22.15000\\\\\n",
       "\t 2021-08-15 02:00:00 & 296.2973 & 290.9715 & 23.58629 & 43.66986 & 23.37839 & 75.36103 & 2021-08-15 03:27:30 & 4.755000 & 15.29167 & 20.05000\\\\\n",
       "\t 2021-08-15 03:00:00 & 295.6056 & 290.8266 & 21.67852 & 40.20739 & 22.81762 & 75.84851 & 2021-08-15 04:27:30 & 3.353333 & 11.87417 & 15.22500\\\\\n",
       "\t 2021-08-15 04:00:00 & 295.7697 & 291.0592 & 21.30270 & 39.47796 & 22.99725 & 75.73416 & 2021-08-15 05:27:30 & 2.855000 & 10.91667 & 13.77500\\\\\n",
       "\t 2021-08-15 05:00:00 & 295.5761 & 291.3231 & 19.16184 & 35.35252 & 24.34073 & 73.23513 & 2021-08-15 06:27:30 & 4.393333 & 13.33333 & 17.73333\\\\\n",
       "\\end{tabular}\n"
      ],
      "text/markdown": [
       "\n",
       "A tibble: 6 × 11\n",
       "\n",
       "| date &lt;dttm&gt; | RAW &lt;dbl&gt; | AUX &lt;dbl&gt; | PPB &lt;dbl&gt; | FINAL &lt;dbl&gt; | temperature &lt;dbl&gt; | humidity &lt;dbl&gt; | Time &lt;dttm&gt; | NO &lt;dbl&gt; | NO2 &lt;dbl&gt; | NOX &lt;dbl&gt; |\n",
       "|---|---|---|---|---|---|---|---|---|---|---|\n",
       "| 2021-08-15 00:00:00 | 297.4983 | 291.0624 | 27.46018 | 50.64405 | 24.60835 | 72.84120 | 2021-08-15 01:27:30 | 4.676667 | 21.55833 | 26.22500 |\n",
       "| 2021-08-15 01:00:00 | 296.7222 | 290.9680 | 25.08844 | 46.37331 | 23.92445 | 74.40823 | 2021-08-15 02:27:30 | 4.335833 | 17.80000 | 22.15000 |\n",
       "| 2021-08-15 02:00:00 | 296.2973 | 290.9715 | 23.58629 | 43.66986 | 23.37839 | 75.36103 | 2021-08-15 03:27:30 | 4.755000 | 15.29167 | 20.05000 |\n",
       "| 2021-08-15 03:00:00 | 295.6056 | 290.8266 | 21.67852 | 40.20739 | 22.81762 | 75.84851 | 2021-08-15 04:27:30 | 3.353333 | 11.87417 | 15.22500 |\n",
       "| 2021-08-15 04:00:00 | 295.7697 | 291.0592 | 21.30270 | 39.47796 | 22.99725 | 75.73416 | 2021-08-15 05:27:30 | 2.855000 | 10.91667 | 13.77500 |\n",
       "| 2021-08-15 05:00:00 | 295.5761 | 291.3231 | 19.16184 | 35.35252 | 24.34073 | 73.23513 | 2021-08-15 06:27:30 | 4.393333 | 13.33333 | 17.73333 |\n",
       "\n"
      ],
      "text/plain": [
       "  date                RAW      AUX      PPB      FINAL    temperature humidity\n",
       "1 2021-08-15 00:00:00 297.4983 291.0624 27.46018 50.64405 24.60835    72.84120\n",
       "2 2021-08-15 01:00:00 296.7222 290.9680 25.08844 46.37331 23.92445    74.40823\n",
       "3 2021-08-15 02:00:00 296.2973 290.9715 23.58629 43.66986 23.37839    75.36103\n",
       "4 2021-08-15 03:00:00 295.6056 290.8266 21.67852 40.20739 22.81762    75.84851\n",
       "5 2021-08-15 04:00:00 295.7697 291.0592 21.30270 39.47796 22.99725    75.73416\n",
       "6 2021-08-15 05:00:00 295.5761 291.3231 19.16184 35.35252 24.34073    73.23513\n",
       "  Time                NO       NO2      NOX     \n",
       "1 2021-08-15 01:27:30 4.676667 21.55833 26.22500\n",
       "2 2021-08-15 02:27:30 4.335833 17.80000 22.15000\n",
       "3 2021-08-15 03:27:30 4.755000 15.29167 20.05000\n",
       "4 2021-08-15 04:27:30 3.353333 11.87417 15.22500\n",
       "5 2021-08-15 05:27:30 2.855000 10.91667 13.77500\n",
       "6 2021-08-15 06:27:30 4.393333 13.33333 17.73333"
      ]
     },
     "metadata": {},
     "output_type": "display_data"
    }
   ],
   "source": [
    "head(data_train_comb)"
   ]
  },
  {
   "cell_type": "code",
   "execution_count": 41,
   "metadata": {},
   "outputs": [],
   "source": [
    "gas_train <- data_train_comb %>% \n",
    "    select(NO2, RAW, temperature) %>% \n",
    "    na.exclude()"
   ]
  },
  {
   "cell_type": "code",
   "execution_count": 42,
   "metadata": {},
   "outputs": [],
   "source": [
    "write_csv(gas_train, \"data/gas_train.csv\")"
   ]
  },
  {
   "cell_type": "code",
   "execution_count": null,
   "metadata": {},
   "outputs": [],
   "source": []
  },
  {
   "cell_type": "code",
   "execution_count": 48,
   "metadata": {},
   "outputs": [],
   "source": [
    "data_airly_test_1hr <- data_airly_test %>% \n",
    "    openair::timeAverage(avg.time = \"60 min\", statistic = \"mean\", start.date = \"2021-09-15 00:00:00\")\n",
    "\n",
    "data_ref_test_1hr <- data_ref_test %>% \n",
    "    openair::timeAverage(avg.time = \"60 min\", statistic = \"mean\", start.date = \"2021-09-15 00:00:00\")"
   ]
  },
  {
   "cell_type": "code",
   "execution_count": 49,
   "metadata": {},
   "outputs": [],
   "source": [
    "data_test_comb <- inner_join(data_airly_test_1hr, data_ref_test_1hr, by=c(\"date\"=\"date\"))"
   ]
  },
  {
   "cell_type": "code",
   "execution_count": 50,
   "metadata": {
    "scrolled": true
   },
   "outputs": [
    {
     "data": {
      "text/html": [
       "<table class=\"dataframe\">\n",
       "<caption>A tibble: 6 × 11</caption>\n",
       "<thead>\n",
       "\t<tr><th scope=col>date</th><th scope=col>RAW</th><th scope=col>AUX</th><th scope=col>PPB</th><th scope=col>FINAL</th><th scope=col>temperature</th><th scope=col>humidity</th><th scope=col>Time</th><th scope=col>NO</th><th scope=col>NO2</th><th scope=col>NOX</th></tr>\n",
       "\t<tr><th scope=col>&lt;dttm&gt;</th><th scope=col>&lt;dbl&gt;</th><th scope=col>&lt;dbl&gt;</th><th scope=col>&lt;dbl&gt;</th><th scope=col>&lt;dbl&gt;</th><th scope=col>&lt;dbl&gt;</th><th scope=col>&lt;dbl&gt;</th><th scope=col>&lt;dttm&gt;</th><th scope=col>&lt;dbl&gt;</th><th scope=col>&lt;dbl&gt;</th><th scope=col>&lt;dbl&gt;</th></tr>\n",
       "</thead>\n",
       "<tbody>\n",
       "\t<tr><td>2021-09-15 00:00:00</td><td>297.1858</td><td>290.4173</td><td>30.91114</td><td>49.27974</td><td>17.10584</td><td>85.24315</td><td>2021-09-15 01:27:30</td><td> 6.069167</td><td>20.91667</td><td>26.98333</td></tr>\n",
       "\t<tr><td>2021-09-15 01:00:00</td><td>296.6088</td><td>290.4185</td><td>28.79548</td><td>46.56564</td><td>16.60335</td><td>86.91472</td><td>2021-09-15 02:27:30</td><td> 5.256667</td><td>19.25000</td><td>24.52500</td></tr>\n",
       "\t<tr><td>2021-09-15 02:00:00</td><td>295.9173</td><td>290.3378</td><td>26.48576</td><td>43.57857</td><td>16.11310</td><td>86.60823</td><td>2021-09-15 03:27:30</td><td> 9.430000</td><td>16.95000</td><td>26.36667</td></tr>\n",
       "\t<tr><td>2021-09-15 03:00:00</td><td>295.9334</td><td>290.2650</td><td>26.94795</td><td>44.24168</td><td>15.67477</td><td>86.84233</td><td>2021-09-15 04:27:30</td><td> 7.552500</td><td>16.06667</td><td>23.64167</td></tr>\n",
       "\t<tr><td>2021-09-15 04:00:00</td><td>296.0547</td><td>290.2665</td><td>27.51941</td><td>45.03515</td><td>15.39307</td><td>87.85701</td><td>2021-09-15 05:27:30</td><td>20.241667</td><td>16.39167</td><td>36.60833</td></tr>\n",
       "\t<tr><td>2021-09-15 05:00:00</td><td>296.4984</td><td>290.4345</td><td>28.72853</td><td>46.63902</td><td>15.37075</td><td>88.66242</td><td>2021-09-15 06:27:30</td><td>29.433333</td><td>17.25000</td><td>46.70000</td></tr>\n",
       "</tbody>\n",
       "</table>\n"
      ],
      "text/latex": [
       "A tibble: 6 × 11\n",
       "\\begin{tabular}{lllllllllll}\n",
       " date & RAW & AUX & PPB & FINAL & temperature & humidity & Time & NO & NO2 & NOX\\\\\n",
       " <dttm> & <dbl> & <dbl> & <dbl> & <dbl> & <dbl> & <dbl> & <dttm> & <dbl> & <dbl> & <dbl>\\\\\n",
       "\\hline\n",
       "\t 2021-09-15 00:00:00 & 297.1858 & 290.4173 & 30.91114 & 49.27974 & 17.10584 & 85.24315 & 2021-09-15 01:27:30 &  6.069167 & 20.91667 & 26.98333\\\\\n",
       "\t 2021-09-15 01:00:00 & 296.6088 & 290.4185 & 28.79548 & 46.56564 & 16.60335 & 86.91472 & 2021-09-15 02:27:30 &  5.256667 & 19.25000 & 24.52500\\\\\n",
       "\t 2021-09-15 02:00:00 & 295.9173 & 290.3378 & 26.48576 & 43.57857 & 16.11310 & 86.60823 & 2021-09-15 03:27:30 &  9.430000 & 16.95000 & 26.36667\\\\\n",
       "\t 2021-09-15 03:00:00 & 295.9334 & 290.2650 & 26.94795 & 44.24168 & 15.67477 & 86.84233 & 2021-09-15 04:27:30 &  7.552500 & 16.06667 & 23.64167\\\\\n",
       "\t 2021-09-15 04:00:00 & 296.0547 & 290.2665 & 27.51941 & 45.03515 & 15.39307 & 87.85701 & 2021-09-15 05:27:30 & 20.241667 & 16.39167 & 36.60833\\\\\n",
       "\t 2021-09-15 05:00:00 & 296.4984 & 290.4345 & 28.72853 & 46.63902 & 15.37075 & 88.66242 & 2021-09-15 06:27:30 & 29.433333 & 17.25000 & 46.70000\\\\\n",
       "\\end{tabular}\n"
      ],
      "text/markdown": [
       "\n",
       "A tibble: 6 × 11\n",
       "\n",
       "| date &lt;dttm&gt; | RAW &lt;dbl&gt; | AUX &lt;dbl&gt; | PPB &lt;dbl&gt; | FINAL &lt;dbl&gt; | temperature &lt;dbl&gt; | humidity &lt;dbl&gt; | Time &lt;dttm&gt; | NO &lt;dbl&gt; | NO2 &lt;dbl&gt; | NOX &lt;dbl&gt; |\n",
       "|---|---|---|---|---|---|---|---|---|---|---|\n",
       "| 2021-09-15 00:00:00 | 297.1858 | 290.4173 | 30.91114 | 49.27974 | 17.10584 | 85.24315 | 2021-09-15 01:27:30 |  6.069167 | 20.91667 | 26.98333 |\n",
       "| 2021-09-15 01:00:00 | 296.6088 | 290.4185 | 28.79548 | 46.56564 | 16.60335 | 86.91472 | 2021-09-15 02:27:30 |  5.256667 | 19.25000 | 24.52500 |\n",
       "| 2021-09-15 02:00:00 | 295.9173 | 290.3378 | 26.48576 | 43.57857 | 16.11310 | 86.60823 | 2021-09-15 03:27:30 |  9.430000 | 16.95000 | 26.36667 |\n",
       "| 2021-09-15 03:00:00 | 295.9334 | 290.2650 | 26.94795 | 44.24168 | 15.67477 | 86.84233 | 2021-09-15 04:27:30 |  7.552500 | 16.06667 | 23.64167 |\n",
       "| 2021-09-15 04:00:00 | 296.0547 | 290.2665 | 27.51941 | 45.03515 | 15.39307 | 87.85701 | 2021-09-15 05:27:30 | 20.241667 | 16.39167 | 36.60833 |\n",
       "| 2021-09-15 05:00:00 | 296.4984 | 290.4345 | 28.72853 | 46.63902 | 15.37075 | 88.66242 | 2021-09-15 06:27:30 | 29.433333 | 17.25000 | 46.70000 |\n",
       "\n"
      ],
      "text/plain": [
       "  date                RAW      AUX      PPB      FINAL    temperature humidity\n",
       "1 2021-09-15 00:00:00 297.1858 290.4173 30.91114 49.27974 17.10584    85.24315\n",
       "2 2021-09-15 01:00:00 296.6088 290.4185 28.79548 46.56564 16.60335    86.91472\n",
       "3 2021-09-15 02:00:00 295.9173 290.3378 26.48576 43.57857 16.11310    86.60823\n",
       "4 2021-09-15 03:00:00 295.9334 290.2650 26.94795 44.24168 15.67477    86.84233\n",
       "5 2021-09-15 04:00:00 296.0547 290.2665 27.51941 45.03515 15.39307    87.85701\n",
       "6 2021-09-15 05:00:00 296.4984 290.4345 28.72853 46.63902 15.37075    88.66242\n",
       "  Time                NO        NO2      NOX     \n",
       "1 2021-09-15 01:27:30  6.069167 20.91667 26.98333\n",
       "2 2021-09-15 02:27:30  5.256667 19.25000 24.52500\n",
       "3 2021-09-15 03:27:30  9.430000 16.95000 26.36667\n",
       "4 2021-09-15 04:27:30  7.552500 16.06667 23.64167\n",
       "5 2021-09-15 05:27:30 20.241667 16.39167 36.60833\n",
       "6 2021-09-15 06:27:30 29.433333 17.25000 46.70000"
      ]
     },
     "metadata": {},
     "output_type": "display_data"
    }
   ],
   "source": [
    "head(data_test_comb)"
   ]
  },
  {
   "cell_type": "code",
   "execution_count": 53,
   "metadata": {},
   "outputs": [],
   "source": [
    "gas_test <- data_test_comb %>%\n",
    "    na.exclude()"
   ]
  },
  {
   "cell_type": "code",
   "execution_count": 54,
   "metadata": {},
   "outputs": [],
   "source": [
    "write_csv(gas_test, \"data/gas_test.csv\")"
   ]
  },
  {
   "cell_type": "code",
   "execution_count": null,
   "metadata": {},
   "outputs": [],
   "source": []
  },
  {
   "cell_type": "markdown",
   "metadata": {},
   "source": [
    "## upload"
   ]
  },
  {
   "cell_type": "code",
   "execution_count": 46,
   "metadata": {},
   "outputs": [
    {
     "data": {
      "text/html": [
       "'s3://sagemaker-eu-west-2-870953422121/sagemaker/demo-r-byo/42022/train/base/base_train.csv'"
      ],
      "text/latex": [
       "'s3://sagemaker-eu-west-2-870953422121/sagemaker/demo-r-byo/42022/train/base/base\\_train.csv'"
      ],
      "text/markdown": [
       "'s3://sagemaker-eu-west-2-870953422121/sagemaker/demo-r-byo/42022/train/base/base_train.csv'"
      ],
      "text/plain": [
       "[1] \"s3://sagemaker-eu-west-2-870953422121/sagemaker/demo-r-byo/42022/train/base/base_train.csv\""
      ]
     },
     "metadata": {},
     "output_type": "display_data"
    }
   ],
   "source": [
    "session$upload_data(path=\"data/base_train.csv\",\n",
    "                                      bucket=bucket,\n",
    "                                      key_prefix=str_glue(prefix, ID, \"train\", \"base\", .sep=\"/\"))"
   ]
  },
  {
   "cell_type": "code",
   "execution_count": 47,
   "metadata": {},
   "outputs": [
    {
     "data": {
      "text/html": [
       "'s3://sagemaker-eu-west-2-870953422121/sagemaker/demo-r-byo/42022/train/gas/gas_train.csv'"
      ],
      "text/latex": [
       "'s3://sagemaker-eu-west-2-870953422121/sagemaker/demo-r-byo/42022/train/gas/gas\\_train.csv'"
      ],
      "text/markdown": [
       "'s3://sagemaker-eu-west-2-870953422121/sagemaker/demo-r-byo/42022/train/gas/gas_train.csv'"
      ],
      "text/plain": [
       "[1] \"s3://sagemaker-eu-west-2-870953422121/sagemaker/demo-r-byo/42022/train/gas/gas_train.csv\""
      ]
     },
     "metadata": {},
     "output_type": "display_data"
    }
   ],
   "source": [
    "session$upload_data(path=\"data/gas_train.csv\",\n",
    "                                      bucket=bucket,\n",
    "                                      key_prefix=str_glue(prefix, ID, \"train\", \"gas\", .sep=\"/\"))"
   ]
  },
  {
   "cell_type": "markdown",
   "metadata": {},
   "source": [
    "## train"
   ]
  },
  {
   "cell_type": "code",
   "execution_count": 9,
   "metadata": {},
   "outputs": [],
   "source": [
    "estimator = sagemaker$estimator$Estimator(\n",
    "    image_uri=str_glue(\"{account}.dkr.ecr.{region}.amazonaws.com/rmars:latest\"),\n",
    "    role=role,\n",
    "    instance_count=1L,\n",
    "    instance_type=\"ml.m4.xlarge\",\n",
    "    output_path=str_glue(\"s3://{bucket}/{prefix}/output\"),\n",
    "    sagemaker_session=session,\n",
    "    hyperparameters=list('target' = 'RAW',\n",
    "                       'degree'= 2)\n",
    ")  # Setting constant hyperparameter\n",
    "\n",
    "# target is by defauld \"RAW\". See mars.R where this is set."
   ]
  },
  {
   "cell_type": "markdown",
   "metadata": {},
   "source": [
    "Once we've defined our estimator we can specify the hyperparameters that we'd like to tune and their possible values.  We have three different types of hyperparameters.\n",
    "- Categorical parameters need to take one value from a discrete set.  We define this by passing the list of possible values to `CategoricalParameter(list)`\n",
    "- Continuous parameters can take any real number value between the minimum and maximum value, defined by `ContinuousParameter(min, max)`\n",
    "- Integer parameters can take any integer value between the minimum and maximum value, defined by `IntegerParameter(min, max)`\n",
    "\n",
    "*Note, if possible, it's almost always best to specify a value as the least restrictive type.  For example, tuning `thresh` as a continuous value between 0.01 and 0.2 is likely to yield a better result than tuning as a categorical parameter with possible values of 0.01, 0.1, 0.15, or 0.2.*"
   ]
  },
  {
   "cell_type": "code",
   "execution_count": 10,
   "metadata": {},
   "outputs": [],
   "source": [
    "# to set the degree as a varying HP to tune, use: 'degree': IntegerParameter(1, 3) and remove it from the Estimator\n",
    "\n",
    "hyperparameter_ranges = list(\n",
    "    \"thresh\" = sagemaker$parameter$ContinuousParameter(0.001, 0.01),\n",
    "    \"prune\" = sagemaker$parameter$CategoricalParameter(c(\"TRUE\", \"FALSE\"))\n",
    ")"
   ]
  },
  {
   "cell_type": "markdown",
   "metadata": {},
   "source": [
    "Next we'll specify the objective metric that we'd like to tune and its definition.  This metric is output by a `print` statement in our `mars.R` file.  Its critical that the format aligns with the regular expression (Regex) we then specify to extract that metric from the CloudWatch logs of our training job."
   ]
  },
  {
   "cell_type": "code",
   "execution_count": 11,
   "metadata": {},
   "outputs": [],
   "source": [
    "objective_metric_name = 'mse'\n",
    "metric_definitions = list(list('Name'= 'mse',\n",
    "                               'Regex'= 'mse: ([0-9\\\\.]+)'))"
   ]
  },
  {
   "cell_type": "markdown",
   "metadata": {},
   "source": [
    "Now, we'll create a `HyperparameterTuner` object, which we pass:\n",
    "- The MXNet estimator we created above\n",
    "- Our hyperparameter ranges\n",
    "- Objective metric name and definition\n",
    "- Whether we should maximize or minimize our objective metric (defaults to 'Maximize')\n",
    "- Number of training jobs to run in total and how many training jobs should be run simultaneously.  More parallel jobs will finish tuning sooner, but may sacrifice accuracy.  We recommend you set the parallel jobs value to less than 10% of the total number of training jobs (we'll set it higher just for this example to keep it short)."
   ]
  },
  {
   "cell_type": "code",
   "execution_count": 12,
   "metadata": {},
   "outputs": [],
   "source": [
    "tuner = sagemaker$tuner$HyperparameterTuner(\n",
    "    estimator,\n",
    "    objective_metric_name,\n",
    "    hyperparameter_ranges,\n",
    "    metric_definitions,\n",
    "    objective_type='Minimize',\n",
    "    max_jobs=9L,\n",
    "    max_parallel_jobs=3L)"
   ]
  },
  {
   "cell_type": "markdown",
   "metadata": {},
   "source": [
    "# Fit!"
   ]
  },
  {
   "cell_type": "markdown",
   "metadata": {},
   "source": [
    "And finally, we can start our hyperparameter tuning job by calling `.fit()` and passing in the S3 paths to our train (and val) datasets (folders).\n",
    "\n",
    "*Note, typically for hyperparameter tuning, we'd want to specify both a training and validation dataset and optimize the objective metric from the validation dataset.  However, because data is a very small dataset we'll skip the step of splitting into training and validation.  In practice, doing this could lead to a model that overfits to our training data and does not generalize well.*"
   ]
  },
  {
   "cell_type": "code",
   "execution_count": 13,
   "metadata": {},
   "outputs": [],
   "source": [
    "tuner$fit(list('train'=str_glue(\"s3://{bucket}/{prefix}/{ID}/train\")), wait=FALSE)"
   ]
  },
  {
   "cell_type": "code",
   "execution_count": 14,
   "metadata": {},
   "outputs": [],
   "source": [
    "status = boto3_r$client(\"sagemaker\")$describe_hyper_parameter_tuning_job(\n",
    "    HyperParameterTuningJobName=tuner$latest_tuning_job$job_name\n",
    "    )$HyperParameterTuningJobStatus"
   ]
  },
  {
   "cell_type": "code",
   "execution_count": 15,
   "metadata": {},
   "outputs": [
    {
     "data": {
      "text/html": [
       "'InProgress'"
      ],
      "text/latex": [
       "'InProgress'"
      ],
      "text/markdown": [
       "'InProgress'"
      ],
      "text/plain": [
       "[1] \"InProgress\""
      ]
     },
     "metadata": {},
     "output_type": "display_data"
    }
   ],
   "source": [
    "status"
   ]
  },
  {
   "cell_type": "code",
   "execution_count": null,
   "metadata": {},
   "outputs": [],
   "source": []
  },
  {
   "cell_type": "code",
   "execution_count": null,
   "metadata": {},
   "outputs": [],
   "source": [
    "# while (status == \"Completed\") {\n",
    "    \n",
    "#     status = boto3_r$client(\"sagemaker\")$describe_hyper_parameter_tuning_job(\n",
    "#     HyperParameterTuningJobName=tuner$latest_tuning_job$job_name\n",
    "#     )$HyperParameterTuningJobStatus\n",
    "\n",
    "#     completed = boto3_r$client(\"sagemaker\")$describe_hyper_parameter_tuning_job(\n",
    "#     HyperParameterTuningJobName=tuner$latest_tuning_job$job_name)$TrainingJobStatusCounters$Completed\n",
    "\n",
    "#     prog = boto3_r$client(\"sagemaker\")$describe_hyper_parameter_tuning_job(\n",
    "#     HyperParameterTuningJobName=tuner$latest_tuning_job$job_name)$TrainingJobStatusCounters$InProgress\n",
    "    \n",
    "#     print(str_glue(\"{status}, Completed Jobs: {completed}, In Progress Jobs: {prog}\"))\n",
    "        \n",
    "#     Sys.sleep(30)\n",
    "# }"
   ]
  },
  {
   "cell_type": "markdown",
   "metadata": {},
   "source": [
    "Wait until the HPO job is complete, and then run the following cell:"
   ]
  },
  {
   "cell_type": "code",
   "execution_count": null,
   "metadata": {},
   "outputs": [],
   "source": [
    "boto3_r$client(\"sagemaker\")$describe_hyper_parameter_tuning_job(\n",
    "    HyperParameterTuningJobName=tuner$latest_tuning_job$job_name\n",
    ")$BestTrainingJob"
   ]
  },
  {
   "cell_type": "markdown",
   "metadata": {},
   "source": [
    "---\n",
    "\n",
    "## HPO Analysis\n",
    "\n",
    "Now that we've started our hyperparameter tuning job, it will run in the background and we can close this notebook.  Once finished, we can use the [HPO Analysis notebook](https://github.com/awslabs/amazon-sagemaker-examples/tree/master/hyperparameter_tuning/analyze_results/HPO_Analyze_TuningJob_Results.ipynb) to determine which set of hyperparameters worked best.\n",
    "\n",
    "For more detail on Amazon SageMaker's Hyperparameter Tuning, please refer to the AWS documentation. "
   ]
  },
  {
   "cell_type": "markdown",
   "metadata": {},
   "source": [
    "---\n",
    "## Host\n",
    "\n",
    "Hosting the model we just tuned takes three steps in Amazon SageMaker.  First, we define the model we want to host, pointing the service to the model artifact our training job just wrote to S3.\n",
    "\n",
    "We will use the results of the HPO for this purpose, but using `hyper_parameter_tuning_job` method."
   ]
  },
  {
   "cell_type": "code",
   "execution_count": null,
   "metadata": {},
   "outputs": [],
   "source": [
    "best_training = boto3_r$client(\"sagemaker\")$describe_hyper_parameter_tuning_job(\n",
    "    HyperParameterTuningJobName=tuner$latest_tuning_job$job_name\n",
    ")$BestTrainingJob"
   ]
  },
  {
   "cell_type": "code",
   "execution_count": null,
   "metadata": {},
   "outputs": [],
   "source": [
    "# Get the best trainig job and S3 location for the model file\n",
    "best_model_s3 = boto3_r$client(\"sagemaker\")$describe_training_job(\n",
    "    TrainingJobName=best_training$TrainingJobName\n",
    ")$ModelArtifacts$S3ModelArtifacts\n",
    "best_model_s3"
   ]
  },
  {
   "cell_type": "code",
   "execution_count": null,
   "metadata": {
    "scrolled": true
   },
   "outputs": [],
   "source": [
    "# import time\n",
    "\n",
    "r_job = str_glue(\"demo-r-byo\", ID, format(Sys.time(), '%H-%M-%S'), .sep='-')"
   ]
  },
  {
   "cell_type": "code",
   "execution_count": null,
   "metadata": {},
   "outputs": [],
   "source": [
    "r_hosting_container = list(\n",
    "    \"Image\"=str_glue(\"{account}.dkr.ecr.{region}.amazonaws.com/{algorithm_name}:latest\"),\n",
    "    \"ModelDataUrl\"=best_model_s3\n",
    ")\n",
    "\n",
    "create_model_response = boto3_r$client(\"sagemaker\")$create_model(\n",
    "    ModelName=r_job, ExecutionRoleArn=role, PrimaryContainer=r_hosting_container\n",
    ")\n",
    "\n",
    "print(create_model_response$ModelArn)"
   ]
  },
  {
   "cell_type": "markdown",
   "metadata": {},
   "source": [
    "Next, let's create an endpoing configuration, passing in the model we just registered.  In this case, we'll only use a few c4.xlarges."
   ]
  },
  {
   "cell_type": "code",
   "execution_count": null,
   "metadata": {},
   "outputs": [],
   "source": [
    "r_endpoint_config = str_glue(\"demo-r-byo-config\", ID, format(Sys.time(), '%H-%M-%S'), .sep='-')\n",
    "print(r_endpoint_config)\n",
    "\n",
    "create_endpoint_config_response = boto3.client(\"sagemaker\").create_endpoint_config(\n",
    "    EndpointConfigName=r_endpoint_config,\n",
    "    ProductionVariants=[\n",
    "        {\n",
    "            \"InstanceType\": \"ml.t2.medium\",\n",
    "            \"InitialInstanceCount\": 1,\n",
    "            \"ModelName\": r_job,\n",
    "            \"VariantName\": \"AllTraffic\",\n",
    "        }\n",
    "    ],\n",
    ")\n",
    "\n",
    "print(\"Endpoint Config Arn: \" + create_endpoint_config_response[\"EndpointConfigArn\"])"
   ]
  },
  {
   "cell_type": "markdown",
   "metadata": {},
   "source": [
    "Finally, we'll create the endpoints using our endpoint configuration from the last step."
   ]
  },
  {
   "cell_type": "code",
   "execution_count": null,
   "metadata": {},
   "outputs": [],
   "source": [
    "%%time\n",
    "\n",
    "r_endpoint = \"demo-r-endpoint-\" + time.strftime(\"%Y%m%d%H%M\", time.gmtime())\n",
    "print(r_endpoint)\n",
    "create_endpoint_response = boto3.client(\"sagemaker\").create_endpoint(\n",
    "    EndpointName=r_endpoint, EndpointConfigName=r_endpoint_config\n",
    ")\n",
    "print(create_endpoint_response[\"EndpointArn\"])\n",
    "\n",
    "resp = boto3.client(\"sagemaker\").describe_endpoint(EndpointName=r_endpoint)\n",
    "status = resp[\"EndpointStatus\"]\n",
    "print(\"Status: \" + status)\n",
    "\n",
    "try:\n",
    "    boto3.client(\"sagemaker\").get_waiter(\"endpoint_in_service\").wait(EndpointName=r_endpoint)\n",
    "finally:\n",
    "    resp = boto3.client(\"sagemaker\").describe_endpoint(EndpointName=r_endpoint)\n",
    "    status = resp[\"EndpointStatus\"]\n",
    "    print(\"Arn: \" + resp[\"EndpointArn\"])\n",
    "    print(\"Status: \" + status)\n",
    "\n",
    "    if status != \"InService\":\n",
    "        raise Exception(\"Endpoint creation did not succeed\")"
   ]
  },
  {
   "cell_type": "markdown",
   "metadata": {},
   "source": [
    "---\n",
    "## Predict\n",
    "To confirm our endpoints are working properly, let's try to invoke the endpoint.\n",
    "\n",
    "_Note: The payload we're passing in the request is a CSV string with a header record, followed by multiple new lines.  It also contains text columns, which the serving code converts to the set of indicator variables needed for our model predictions.  Again, this is not a best practice for highly optimized code, however, it showcases the flexibility of bringing your own algorithm._"
   ]
  },
  {
   "cell_type": "code",
   "execution_count": null,
   "metadata": {},
   "outputs": [],
   "source": []
  },
  {
   "cell_type": "code",
   "execution_count": null,
   "metadata": {},
   "outputs": [],
   "source": [
    "json <- reticulate::import(\"json\")\n",
    "runtime = boto3_r$Session()$client(\"runtime.sagemaker\")"
   ]
  },
  {
   "cell_type": "code",
   "execution_count": null,
   "metadata": {},
   "outputs": [],
   "source": [
    "r_endpoint = 'demo-r-endpoint-202112032200'"
   ]
  },
  {
   "cell_type": "code",
   "execution_count": null,
   "metadata": {},
   "outputs": [],
   "source": [
    "csv_serializer = sagemaker$serializers$CSVSerializer(content_type='text/csv')"
   ]
  },
  {
   "cell_type": "code",
   "execution_count": null,
   "metadata": {},
   "outputs": [],
   "source": [
    "# there is a limit of max 500 samples at a time for invoking endpoints )?)\n",
    "payload = data_airly_idTRH$temperature[1:10]\n",
    "my_payload_as_csv = csv_serializer$serialize(payload) # Payload (aka, data) for inference."
   ]
  },
  {
   "cell_type": "code",
   "execution_count": null,
   "metadata": {},
   "outputs": [],
   "source": [
    "my_payload_as_csv"
   ]
  },
  {
   "cell_type": "code",
   "execution_count": null,
   "metadata": {},
   "outputs": [],
   "source": [
    "response = runtime$invoke_endpoint(EndpointName=r_endpoint, \n",
    "                                   ContentType=\"text/csv\", \n",
    "                                   Body=my_payload_as_csv)"
   ]
  },
  {
   "cell_type": "code",
   "execution_count": null,
   "metadata": {},
   "outputs": [],
   "source": [
    "result = json$loads(response$Body$read()$decode())\n",
    "display(result)"
   ]
  },
  {
   "cell_type": "code",
   "execution_count": null,
   "metadata": {},
   "outputs": [],
   "source": [
    "payload"
   ]
  },
  {
   "cell_type": "markdown",
   "metadata": {},
   "source": [
    "We can see the result is a CSV of predictions for our target variable.  Let's compare them to the actuals to see how our model did."
   ]
  },
  {
   "cell_type": "code",
   "execution_count": null,
   "metadata": {
    "scrolled": true
   },
   "outputs": [],
   "source": [
    "import matplotlib.pyplot as plt\n",
    "import numpy as np\n",
    "\n",
    "\n",
    "plt.scatter(base_test[\"RAW\"], np.fromstring(result[0], sep=\",\"), alpha=0.4, s=50)\n",
    "plt.xlabel(\"Actual\")\n",
    "plt.ylabel(\"Prediction\")\n",
    "x = np.linspace(*plt.xlim())\n",
    "plt.plot(x, x, linestyle=\"--\", color=\"g\", linewidth=1)\n",
    "\n",
    "plt.show()"
   ]
  },
  {
   "cell_type": "code",
   "execution_count": null,
   "metadata": {
    "scrolled": true
   },
   "outputs": [],
   "source": [
    "import matplotlib.pyplot as plt\n",
    "import numpy as np\n",
    "\n",
    "plt.scatter(base_test[\" temperature\"], base_test[\"RAW\"], alpha=0.4, s=50)\n",
    "plt.plot(base_test[\" temperature\"], np.fromstring(result[0], sep=\",\"), color=\"red\")\n",
    "plt.xlabel(\"Actual\")\n",
    "plt.ylabel(\"Prediction\")\n",
    "x = np.linspace(*plt.xlim())\n",
    "# plt.plot(x, x, linestyle=\"--\", color=\"g\", linewidth=1)\n",
    "\n",
    "\n",
    "\n",
    "plt.show()"
   ]
  },
  {
   "cell_type": "markdown",
   "metadata": {},
   "source": [
    "### (Optional) Clean-up\n",
    "\n",
    "If you're ready to be done with this notebook, please run the cell below.  This will remove the hosted endpoint you created and avoid any charges from a stray instance being left on."
   ]
  },
  {
   "cell_type": "code",
   "execution_count": null,
   "metadata": {},
   "outputs": [],
   "source": [
    "#boto3.client(\"sagemaker\").delete_endpoint(EndpointName=r_endpoint)"
   ]
  },
  {
   "cell_type": "markdown",
   "metadata": {},
   "source": [
    "## deploy"
   ]
  },
  {
   "cell_type": "code",
   "execution_count": null,
   "metadata": {},
   "outputs": [],
   "source": [
    "mars_pred= tuner$deploy(initial_instance_count = 1L, instance_type = 'ml.t2.medium')"
   ]
  },
  {
   "cell_type": "markdown",
   "metadata": {},
   "source": [
    "## predict"
   ]
  },
  {
   "cell_type": "code",
   "execution_count": null,
   "metadata": {},
   "outputs": [],
   "source": [
    "# cols = names(test)[names(test)== <target>]\n",
    "# preds = predict(mars_pred, data_airly_idTRH$temperature)"
   ]
  },
  {
   "cell_type": "code",
   "execution_count": null,
   "metadata": {},
   "outputs": [],
   "source": [
    "mars_pred"
   ]
  },
  {
   "cell_type": "code",
   "execution_count": 136,
   "metadata": {},
   "outputs": [
    {
     "ename": "ERROR",
     "evalue": "Error in py_call_impl(callable, dots$args, dots$keywords): ModelError: An error occurred (ModelError) when calling the InvokeEndpoint operation: Received server error (500) from primary with message \"{\"error\":\"500 - Internal server error\"}\". See https://eu-west-2.console.aws.amazon.com/cloudwatch/home?region=eu-west-2#logEventViewer:group=/aws/sagemaker/Endpoints/rmars-211203-2206-007-5a1de485 in account 870953422121 for more information.\n\nDetailed traceback:\n  File \"/home/ec2-user/anaconda3/envs/R/lib/python3.9/site-packages/sagemaker/predictor.py\", line 161, in predict\n    response = self.sagemaker_session.sagemaker_runtime_client.invoke_endpoint(**request_args)\n  File \"/home/ec2-user/anaconda3/envs/R/lib/python3.9/site-packages/botocore/client.py\", line 391, in _api_call\n    return self._make_api_call(operation_name, kwargs)\n  File \"/home/ec2-user/anaconda3/envs/R/lib/python3.9/site-packages/botocore/client.py\", line 719, in _make_api_call\n    raise error_class(parsed_response, operation_name)\n\n",
     "output_type": "error",
     "traceback": [
      "Error in py_call_impl(callable, dots$args, dots$keywords): ModelError: An error occurred (ModelError) when calling the InvokeEndpoint operation: Received server error (500) from primary with message \"{\"error\":\"500 - Internal server error\"}\". See https://eu-west-2.console.aws.amazon.com/cloudwatch/home?region=eu-west-2#logEventViewer:group=/aws/sagemaker/Endpoints/rmars-211203-2206-007-5a1de485 in account 870953422121 for more information.\n\nDetailed traceback:\n  File \"/home/ec2-user/anaconda3/envs/R/lib/python3.9/site-packages/sagemaker/predictor.py\", line 161, in predict\n    response = self.sagemaker_session.sagemaker_runtime_client.invoke_endpoint(**request_args)\n  File \"/home/ec2-user/anaconda3/envs/R/lib/python3.9/site-packages/botocore/client.py\", line 391, in _api_call\n    return self._make_api_call(operation_name, kwargs)\n  File \"/home/ec2-user/anaconda3/envs/R/lib/python3.9/site-packages/botocore/client.py\", line 719, in _make_api_call\n    raise error_class(parsed_response, operation_name)\n\nTraceback:\n",
      "1. mars_pred$predict(data_airly_idTRH$temperature[1:10])",
      "2. py_call_impl(callable, dots$args, dots$keywords)"
     ]
    }
   ],
   "source": [
    "# Alternatively you can call the predict method in mars_pred class\n",
    "# mars_pred$serializer = csv_serializer\n",
    "# mars_pred$deserializer = csv_deserializer\n",
    "pred = mars_pred$predict(data_airly_idTRH$temperature[1:10])"
   ]
  },
  {
   "cell_type": "code",
   "execution_count": null,
   "metadata": {},
   "outputs": [],
   "source": [
    "mars_pred$serializer"
   ]
  },
  {
   "cell_type": "code",
   "execution_count": null,
   "metadata": {},
   "outputs": [],
   "source": [
    "mars_pred$predict(my_payload_as_csv)"
   ]
  },
  {
   "cell_type": "code",
   "execution_count": 139,
   "metadata": {},
   "outputs": [
    {
     "data": {
      "text/html": [
       "<style>\n",
       ".list-inline {list-style: none; margin:0; padding: 0}\n",
       ".list-inline>li {display: inline-block}\n",
       ".list-inline>li:not(:last-child)::after {content: \"\\00b7\"; padding: 0 .5ex}\n",
       "</style>\n",
       "<ol class=list-inline><li>24.9479522705078</li><li>24.8401317596436</li><li>24.74853515625</li><li>24.66796875</li><li>24.6462287902832</li><li>24.5772533416748</li><li>24.5111522674561</li><li>24.5120334625244</li><li>24.5016384124756</li><li>24.4976463317871</li></ol>\n"
      ],
      "text/latex": [
       "\\begin{enumerate*}\n",
       "\\item 24.9479522705078\n",
       "\\item 24.8401317596436\n",
       "\\item 24.74853515625\n",
       "\\item 24.66796875\n",
       "\\item 24.6462287902832\n",
       "\\item 24.5772533416748\n",
       "\\item 24.5111522674561\n",
       "\\item 24.5120334625244\n",
       "\\item 24.5016384124756\n",
       "\\item 24.4976463317871\n",
       "\\end{enumerate*}\n"
      ],
      "text/markdown": [
       "1. 24.9479522705078\n",
       "2. 24.8401317596436\n",
       "3. 24.74853515625\n",
       "4. 24.66796875\n",
       "5. 24.6462287902832\n",
       "6. 24.5772533416748\n",
       "7. 24.5111522674561\n",
       "8. 24.5120334625244\n",
       "9. 24.5016384124756\n",
       "10. 24.4976463317871\n",
       "\n",
       "\n"
      ],
      "text/plain": [
       " [1] 24.94795 24.84013 24.74854 24.66797 24.64623 24.57725 24.51115 24.51203\n",
       " [9] 24.50164 24.49765"
      ]
     },
     "metadata": {},
     "output_type": "display_data"
    }
   ],
   "source": [
    "data_airly_idTRH$temperature[1:10]"
   ]
  },
  {
   "cell_type": "code",
   "execution_count": null,
   "metadata": {},
   "outputs": [],
   "source": [
    "my_payload_as_csv"
   ]
  },
  {
   "cell_type": "code",
   "execution_count": null,
   "metadata": {},
   "outputs": [],
   "source": [
    "mars_pred$predict(my_payload_as_csv)"
   ]
  },
  {
   "cell_type": "code",
   "execution_count": 140,
   "metadata": {},
   "outputs": [],
   "source": [
    "write_csv(data_airly_idTRH %>% select(temperature), \"data/base_test2.csv\")"
   ]
  },
  {
   "cell_type": "code",
   "execution_count": null,
   "metadata": {},
   "outputs": [],
   "source": [
    "my_payload_as_csv"
   ]
  },
  {
   "cell_type": "code",
   "execution_count": 141,
   "metadata": {},
   "outputs": [
    {
     "data": {
      "text/html": [
       "'24.947952270507812,24.840131759643555,24.74853515625,24.66796875,24.646228790283203,24.577253341674805,24.511152267456055,24.512033462524418,24.501638412475582,24.49764633178711'"
      ],
      "text/latex": [
       "'24.947952270507812,24.840131759643555,24.74853515625,24.66796875,24.646228790283203,24.577253341674805,24.511152267456055,24.512033462524418,24.501638412475582,24.49764633178711'"
      ],
      "text/markdown": [
       "'24.947952270507812,24.840131759643555,24.74853515625,24.66796875,24.646228790283203,24.577253341674805,24.511152267456055,24.512033462524418,24.501638412475582,24.49764633178711'"
      ],
      "text/plain": [
       "[1] \"24.947952270507812,24.840131759643555,24.74853515625,24.66796875,24.646228790283203,24.577253341674805,24.511152267456055,24.512033462524418,24.501638412475582,24.49764633178711\""
      ]
     },
     "metadata": {},
     "output_type": "display_data"
    }
   ],
   "source": [
    "csv_serializer$serialize(data_airly_idTRH$temperature[1:10])"
   ]
  },
  {
   "cell_type": "code",
   "execution_count": 142,
   "metadata": {},
   "outputs": [
    {
     "ename": "ERROR",
     "evalue": "Error in py_call_impl(callable, dots$args, dots$keywords): KeyError: 0\n\nDetailed traceback:\n  File \"/home/ec2-user/anaconda3/envs/R/lib/python3.9/site-packages/sagemaker/serializers.py\", line 112, in serialize\n    has_multiple_rows = len(data) > 0 and self._is_sequence_like(data[0])\n  File \"/home/ec2-user/anaconda3/envs/R/lib/python3.9/site-packages/pandas/core/frame.py\", line 3458, in __getitem__\n    indexer = self.columns.get_loc(key)\n  File \"/home/ec2-user/anaconda3/envs/R/lib/python3.9/site-packages/pandas/core/indexes/base.py\", line 3363, in get_loc\n    raise KeyError(key) from err\n\n",
     "output_type": "error",
     "traceback": [
      "Error in py_call_impl(callable, dots$args, dots$keywords): KeyError: 0\n\nDetailed traceback:\n  File \"/home/ec2-user/anaconda3/envs/R/lib/python3.9/site-packages/sagemaker/serializers.py\", line 112, in serialize\n    has_multiple_rows = len(data) > 0 and self._is_sequence_like(data[0])\n  File \"/home/ec2-user/anaconda3/envs/R/lib/python3.9/site-packages/pandas/core/frame.py\", line 3458, in __getitem__\n    indexer = self.columns.get_loc(key)\n  File \"/home/ec2-user/anaconda3/envs/R/lib/python3.9/site-packages/pandas/core/indexes/base.py\", line 3363, in get_loc\n    raise KeyError(key) from err\n\nTraceback:\n",
      "1. csv_serializer$serialize(payload)",
      "2. py_call_impl(callable, dots$args, dots$keywords)"
     ]
    }
   ],
   "source": [
    "# there is a limit of max 500 samples at a time for invoking endpoints )?)\n",
    "payload = data_airly_idTRH %>% select(temperature)\n",
    "my_payload_as_csv = csv_serializer$serialize(payload) # Payload (aka, data) for inference.\n",
    "my_payload_as_csv"
   ]
  },
  {
   "cell_type": "code",
   "execution_count": 149,
   "metadata": {},
   "outputs": [
    {
     "data": {
      "text/html": [
       "<style>\n",
       ".list-inline {list-style: none; margin:0; padding: 0}\n",
       ".list-inline>li {display: inline-block}\n",
       ".list-inline>li:not(:last-child)::after {content: \"\\00b7\"; padding: 0 .5ex}\n",
       "</style>\n",
       "<ol class=list-inline><li>24.9479522705078</li><li>24.8401317596436</li><li>24.74853515625</li><li>24.66796875</li><li>24.6462287902832</li><li>24.5772533416748</li></ol>\n"
      ],
      "text/latex": [
       "\\begin{enumerate*}\n",
       "\\item 24.9479522705078\n",
       "\\item 24.8401317596436\n",
       "\\item 24.74853515625\n",
       "\\item 24.66796875\n",
       "\\item 24.6462287902832\n",
       "\\item 24.5772533416748\n",
       "\\end{enumerate*}\n"
      ],
      "text/markdown": [
       "1. 24.9479522705078\n",
       "2. 24.8401317596436\n",
       "3. 24.74853515625\n",
       "4. 24.66796875\n",
       "5. 24.6462287902832\n",
       "6. 24.5772533416748\n",
       "\n",
       "\n"
      ],
      "text/plain": [
       "[1] 24.94795 24.84013 24.74854 24.66797 24.64623 24.57725"
      ]
     },
     "metadata": {},
     "output_type": "display_data"
    }
   ],
   "source": [
    "head((data_airly_idTRH %>% select(temperature))[[1]])"
   ]
  },
  {
   "cell_type": "code",
   "execution_count": 143,
   "metadata": {},
   "outputs": [
    {
     "data": {
      "text/plain": [
       "<sagemaker.predictor.Predictor>"
      ]
     },
     "metadata": {},
     "output_type": "display_data"
    }
   ],
   "source": [
    "mars_pred"
   ]
  },
  {
   "cell_type": "code",
   "execution_count": 144,
   "metadata": {},
   "outputs": [],
   "source": [
    "mars_pred$serializer = csv_serializer"
   ]
  },
  {
   "cell_type": "code",
   "execution_count": 150,
   "metadata": {},
   "outputs": [
    {
     "ename": "ERROR",
     "evalue": "Error in py_call_impl(callable, dots$args, dots$keywords): ModelError: An error occurred (ModelError) when calling the InvokeEndpoint operation: Received server error (500) from primary with message \"{\"error\":\"500 - Internal server error\"}\". See https://eu-west-2.console.aws.amazon.com/cloudwatch/home?region=eu-west-2#logEventViewer:group=/aws/sagemaker/Endpoints/rmars-211203-2206-007-5a1de485 in account 870953422121 for more information.\n\nDetailed traceback:\n  File \"/home/ec2-user/anaconda3/envs/R/lib/python3.9/site-packages/sagemaker/predictor.py\", line 161, in predict\n    response = self.sagemaker_session.sagemaker_runtime_client.invoke_endpoint(**request_args)\n  File \"/home/ec2-user/anaconda3/envs/R/lib/python3.9/site-packages/botocore/client.py\", line 391, in _api_call\n    return self._make_api_call(operation_name, kwargs)\n  File \"/home/ec2-user/anaconda3/envs/R/lib/python3.9/site-packages/botocore/client.py\", line 719, in _make_api_call\n    raise error_class(parsed_response, operation_name)\n\n",
     "output_type": "error",
     "traceback": [
      "Error in py_call_impl(callable, dots$args, dots$keywords): ModelError: An error occurred (ModelError) when calling the InvokeEndpoint operation: Received server error (500) from primary with message \"{\"error\":\"500 - Internal server error\"}\". See https://eu-west-2.console.aws.amazon.com/cloudwatch/home?region=eu-west-2#logEventViewer:group=/aws/sagemaker/Endpoints/rmars-211203-2206-007-5a1de485 in account 870953422121 for more information.\n\nDetailed traceback:\n  File \"/home/ec2-user/anaconda3/envs/R/lib/python3.9/site-packages/sagemaker/predictor.py\", line 161, in predict\n    response = self.sagemaker_session.sagemaker_runtime_client.invoke_endpoint(**request_args)\n  File \"/home/ec2-user/anaconda3/envs/R/lib/python3.9/site-packages/botocore/client.py\", line 391, in _api_call\n    return self._make_api_call(operation_name, kwargs)\n  File \"/home/ec2-user/anaconda3/envs/R/lib/python3.9/site-packages/botocore/client.py\", line 719, in _make_api_call\n    raise error_class(parsed_response, operation_name)\n\nTraceback:\n",
      "1. mars_pred$predict((data_airly_idTRH %>% select(temperature))[[1]])",
      "2. py_call_impl(callable, dots$args, dots$keywords)"
     ]
    }
   ],
   "source": [
    "pred = mars_pred$predict((data_airly_idTRH %>% select(temperature))[[1]])"
   ]
  },
  {
   "cell_type": "code",
   "execution_count": null,
   "metadata": {},
   "outputs": [],
   "source": []
  }
 ],
 "metadata": {
  "kernelspec": {
   "display_name": "R",
   "language": "R",
   "name": "ir"
  },
  "language_info": {
   "codemirror_mode": "r",
   "file_extension": ".r",
   "mimetype": "text/x-r-source",
   "name": "R",
   "pygments_lexer": "r",
   "version": "4.1.1"
  },
  "notice": "Copyright 2018 Amazon.com, Inc. or its affiliates. All Rights Reserved.  Licensed under the Apache License, Version 2.0 (the \"License\"). You may not use this file except in compliance with the License. A copy of the License is located at http://aws.amazon.com/apache2.0/ or in the \"license\" file accompanying this file. This file is distributed on an \"AS IS\" BASIS, WITHOUT WARRANTIES OR CONDITIONS OF ANY KIND, either express or implied. See the License for the specific language governing permissions and limitations under the License."
 },
 "nbformat": 4,
 "nbformat_minor": 4
}
